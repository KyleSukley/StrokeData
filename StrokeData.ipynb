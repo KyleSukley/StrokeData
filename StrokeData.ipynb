{
 "cells": [
  {
   "cell_type": "markdown",
   "id": "97f3b16e",
   "metadata": {},
   "source": [
    "## Stroke Data"
   ]
  },
  {
   "cell_type": "markdown",
   "id": "6ea38c27",
   "metadata": {},
   "source": [
    "Source: https://www.kaggle.com/fedesoriano/stroke-prediction-dataset\n",
    "\n",
    "In this notebook I will be using 10 features to predict binary stroke outcomes (1 = stroke, 0 = no stroke). The dataset includes 11 features, but one is a unique identifier (column = 'id') that will be dropped for it adds no benefit to the analysis.\n",
    "\n",
    "The dataset has 5110 samples, so the following models may be appropriate for the binary classification task:\n",
    "- Logistic Regression \n",
    "- Support Vector Classifier\n",
    "- Random Forest Classifier\n",
    "- K-Nearest Neighbors Classifier\n",
    "\n",
    "Let's get the data and see what we're working with.\n"
   ]
  },
  {
   "cell_type": "code",
   "execution_count": 2,
   "id": "488dd116",
   "metadata": {},
   "outputs": [],
   "source": [
    "import pandas as pd\n",
    "import numpy as np\n",
    "import matplotlib.pyplot as plt\n",
    "import seaborn as sns\n",
    "%matplotlib inline"
   ]
  },
  {
   "cell_type": "code",
   "execution_count": 3,
   "id": "578a3207",
   "metadata": {},
   "outputs": [],
   "source": [
    "df = pd.read_csv('healthcare-dataset-stroke-data.csv')"
   ]
  },
  {
   "cell_type": "code",
   "execution_count": 4,
   "id": "68d32f34-bcbf-4a58-9d06-351b93d16e61",
   "metadata": {},
   "outputs": [
    {
     "data": {
      "text/plain": [
       "(5110, 12)"
      ]
     },
     "execution_count": 4,
     "metadata": {},
     "output_type": "execute_result"
    }
   ],
   "source": [
    "df.shape"
   ]
  },
  {
   "cell_type": "code",
   "execution_count": 5,
   "id": "af984afc",
   "metadata": {},
   "outputs": [
    {
     "data": {
      "text/html": [
       "<div>\n",
       "<style scoped>\n",
       "    .dataframe tbody tr th:only-of-type {\n",
       "        vertical-align: middle;\n",
       "    }\n",
       "\n",
       "    .dataframe tbody tr th {\n",
       "        vertical-align: top;\n",
       "    }\n",
       "\n",
       "    .dataframe thead th {\n",
       "        text-align: right;\n",
       "    }\n",
       "</style>\n",
       "<table border=\"1\" class=\"dataframe\">\n",
       "  <thead>\n",
       "    <tr style=\"text-align: right;\">\n",
       "      <th></th>\n",
       "      <th>id</th>\n",
       "      <th>gender</th>\n",
       "      <th>age</th>\n",
       "      <th>hypertension</th>\n",
       "      <th>heart_disease</th>\n",
       "      <th>ever_married</th>\n",
       "      <th>work_type</th>\n",
       "      <th>Residence_type</th>\n",
       "      <th>avg_glucose_level</th>\n",
       "      <th>bmi</th>\n",
       "      <th>smoking_status</th>\n",
       "      <th>stroke</th>\n",
       "    </tr>\n",
       "  </thead>\n",
       "  <tbody>\n",
       "    <tr>\n",
       "      <th>0</th>\n",
       "      <td>9046</td>\n",
       "      <td>Male</td>\n",
       "      <td>67.0</td>\n",
       "      <td>0</td>\n",
       "      <td>1</td>\n",
       "      <td>Yes</td>\n",
       "      <td>Private</td>\n",
       "      <td>Urban</td>\n",
       "      <td>228.69</td>\n",
       "      <td>36.6</td>\n",
       "      <td>formerly smoked</td>\n",
       "      <td>1</td>\n",
       "    </tr>\n",
       "    <tr>\n",
       "      <th>1</th>\n",
       "      <td>51676</td>\n",
       "      <td>Female</td>\n",
       "      <td>61.0</td>\n",
       "      <td>0</td>\n",
       "      <td>0</td>\n",
       "      <td>Yes</td>\n",
       "      <td>Self-employed</td>\n",
       "      <td>Rural</td>\n",
       "      <td>202.21</td>\n",
       "      <td>NaN</td>\n",
       "      <td>never smoked</td>\n",
       "      <td>1</td>\n",
       "    </tr>\n",
       "    <tr>\n",
       "      <th>2</th>\n",
       "      <td>31112</td>\n",
       "      <td>Male</td>\n",
       "      <td>80.0</td>\n",
       "      <td>0</td>\n",
       "      <td>1</td>\n",
       "      <td>Yes</td>\n",
       "      <td>Private</td>\n",
       "      <td>Rural</td>\n",
       "      <td>105.92</td>\n",
       "      <td>32.5</td>\n",
       "      <td>never smoked</td>\n",
       "      <td>1</td>\n",
       "    </tr>\n",
       "    <tr>\n",
       "      <th>3</th>\n",
       "      <td>60182</td>\n",
       "      <td>Female</td>\n",
       "      <td>49.0</td>\n",
       "      <td>0</td>\n",
       "      <td>0</td>\n",
       "      <td>Yes</td>\n",
       "      <td>Private</td>\n",
       "      <td>Urban</td>\n",
       "      <td>171.23</td>\n",
       "      <td>34.4</td>\n",
       "      <td>smokes</td>\n",
       "      <td>1</td>\n",
       "    </tr>\n",
       "    <tr>\n",
       "      <th>4</th>\n",
       "      <td>1665</td>\n",
       "      <td>Female</td>\n",
       "      <td>79.0</td>\n",
       "      <td>1</td>\n",
       "      <td>0</td>\n",
       "      <td>Yes</td>\n",
       "      <td>Self-employed</td>\n",
       "      <td>Rural</td>\n",
       "      <td>174.12</td>\n",
       "      <td>24.0</td>\n",
       "      <td>never smoked</td>\n",
       "      <td>1</td>\n",
       "    </tr>\n",
       "    <tr>\n",
       "      <th>5</th>\n",
       "      <td>56669</td>\n",
       "      <td>Male</td>\n",
       "      <td>81.0</td>\n",
       "      <td>0</td>\n",
       "      <td>0</td>\n",
       "      <td>Yes</td>\n",
       "      <td>Private</td>\n",
       "      <td>Urban</td>\n",
       "      <td>186.21</td>\n",
       "      <td>29.0</td>\n",
       "      <td>formerly smoked</td>\n",
       "      <td>1</td>\n",
       "    </tr>\n",
       "    <tr>\n",
       "      <th>6</th>\n",
       "      <td>53882</td>\n",
       "      <td>Male</td>\n",
       "      <td>74.0</td>\n",
       "      <td>1</td>\n",
       "      <td>1</td>\n",
       "      <td>Yes</td>\n",
       "      <td>Private</td>\n",
       "      <td>Rural</td>\n",
       "      <td>70.09</td>\n",
       "      <td>27.4</td>\n",
       "      <td>never smoked</td>\n",
       "      <td>1</td>\n",
       "    </tr>\n",
       "    <tr>\n",
       "      <th>7</th>\n",
       "      <td>10434</td>\n",
       "      <td>Female</td>\n",
       "      <td>69.0</td>\n",
       "      <td>0</td>\n",
       "      <td>0</td>\n",
       "      <td>No</td>\n",
       "      <td>Private</td>\n",
       "      <td>Urban</td>\n",
       "      <td>94.39</td>\n",
       "      <td>22.8</td>\n",
       "      <td>never smoked</td>\n",
       "      <td>1</td>\n",
       "    </tr>\n",
       "    <tr>\n",
       "      <th>8</th>\n",
       "      <td>27419</td>\n",
       "      <td>Female</td>\n",
       "      <td>59.0</td>\n",
       "      <td>0</td>\n",
       "      <td>0</td>\n",
       "      <td>Yes</td>\n",
       "      <td>Private</td>\n",
       "      <td>Rural</td>\n",
       "      <td>76.15</td>\n",
       "      <td>NaN</td>\n",
       "      <td>Unknown</td>\n",
       "      <td>1</td>\n",
       "    </tr>\n",
       "    <tr>\n",
       "      <th>9</th>\n",
       "      <td>60491</td>\n",
       "      <td>Female</td>\n",
       "      <td>78.0</td>\n",
       "      <td>0</td>\n",
       "      <td>0</td>\n",
       "      <td>Yes</td>\n",
       "      <td>Private</td>\n",
       "      <td>Urban</td>\n",
       "      <td>58.57</td>\n",
       "      <td>24.2</td>\n",
       "      <td>Unknown</td>\n",
       "      <td>1</td>\n",
       "    </tr>\n",
       "  </tbody>\n",
       "</table>\n",
       "</div>"
      ],
      "text/plain": [
       "      id  gender   age  hypertension  heart_disease ever_married  \\\n",
       "0   9046    Male  67.0             0              1          Yes   \n",
       "1  51676  Female  61.0             0              0          Yes   \n",
       "2  31112    Male  80.0             0              1          Yes   \n",
       "3  60182  Female  49.0             0              0          Yes   \n",
       "4   1665  Female  79.0             1              0          Yes   \n",
       "5  56669    Male  81.0             0              0          Yes   \n",
       "6  53882    Male  74.0             1              1          Yes   \n",
       "7  10434  Female  69.0             0              0           No   \n",
       "8  27419  Female  59.0             0              0          Yes   \n",
       "9  60491  Female  78.0             0              0          Yes   \n",
       "\n",
       "       work_type Residence_type  avg_glucose_level   bmi   smoking_status  \\\n",
       "0        Private          Urban             228.69  36.6  formerly smoked   \n",
       "1  Self-employed          Rural             202.21   NaN     never smoked   \n",
       "2        Private          Rural             105.92  32.5     never smoked   \n",
       "3        Private          Urban             171.23  34.4           smokes   \n",
       "4  Self-employed          Rural             174.12  24.0     never smoked   \n",
       "5        Private          Urban             186.21  29.0  formerly smoked   \n",
       "6        Private          Rural              70.09  27.4     never smoked   \n",
       "7        Private          Urban              94.39  22.8     never smoked   \n",
       "8        Private          Rural              76.15   NaN          Unknown   \n",
       "9        Private          Urban              58.57  24.2          Unknown   \n",
       "\n",
       "   stroke  \n",
       "0       1  \n",
       "1       1  \n",
       "2       1  \n",
       "3       1  \n",
       "4       1  \n",
       "5       1  \n",
       "6       1  \n",
       "7       1  \n",
       "8       1  \n",
       "9       1  "
      ]
     },
     "execution_count": 5,
     "metadata": {},
     "output_type": "execute_result"
    }
   ],
   "source": [
    "df.head(10)"
   ]
  },
  {
   "cell_type": "code",
   "execution_count": 6,
   "id": "63f89a71-6013-4a8e-b694-8ed20f6acdff",
   "metadata": {},
   "outputs": [
    {
     "name": "stdout",
     "output_type": "stream",
     "text": [
      "<class 'pandas.core.frame.DataFrame'>\n",
      "RangeIndex: 5110 entries, 0 to 5109\n",
      "Data columns (total 12 columns):\n",
      " #   Column             Non-Null Count  Dtype  \n",
      "---  ------             --------------  -----  \n",
      " 0   id                 5110 non-null   int64  \n",
      " 1   gender             5110 non-null   object \n",
      " 2   age                5110 non-null   float64\n",
      " 3   hypertension       5110 non-null   int64  \n",
      " 4   heart_disease      5110 non-null   int64  \n",
      " 5   ever_married       5110 non-null   object \n",
      " 6   work_type          5110 non-null   object \n",
      " 7   Residence_type     5110 non-null   object \n",
      " 8   avg_glucose_level  5110 non-null   float64\n",
      " 9   bmi                4909 non-null   float64\n",
      " 10  smoking_status     5110 non-null   object \n",
      " 11  stroke             5110 non-null   int64  \n",
      "dtypes: float64(3), int64(4), object(5)\n",
      "memory usage: 479.2+ KB\n"
     ]
    }
   ],
   "source": [
    "df.info()"
   ]
  },
  {
   "cell_type": "markdown",
   "id": "40eb4967",
   "metadata": {},
   "source": [
    "A quick glance suggests that bmi is the only feature missing values."
   ]
  },
  {
   "cell_type": "code",
   "execution_count": 104,
   "id": "8e753ba8",
   "metadata": {},
   "outputs": [
    {
     "data": {
      "text/html": [
       "<div>\n",
       "<style scoped>\n",
       "    .dataframe tbody tr th:only-of-type {\n",
       "        vertical-align: middle;\n",
       "    }\n",
       "\n",
       "    .dataframe tbody tr th {\n",
       "        vertical-align: top;\n",
       "    }\n",
       "\n",
       "    .dataframe thead th {\n",
       "        text-align: right;\n",
       "    }\n",
       "</style>\n",
       "<table border=\"1\" class=\"dataframe\">\n",
       "  <thead>\n",
       "    <tr style=\"text-align: right;\">\n",
       "      <th></th>\n",
       "      <th>id</th>\n",
       "      <th>age</th>\n",
       "      <th>hypertension</th>\n",
       "      <th>heart_disease</th>\n",
       "      <th>avg_glucose_level</th>\n",
       "      <th>bmi</th>\n",
       "      <th>stroke</th>\n",
       "    </tr>\n",
       "  </thead>\n",
       "  <tbody>\n",
       "    <tr>\n",
       "      <th>count</th>\n",
       "      <td>5109.0</td>\n",
       "      <td>5109.0</td>\n",
       "      <td>5109.0</td>\n",
       "      <td>5109.0</td>\n",
       "      <td>5109.0</td>\n",
       "      <td>4908.0</td>\n",
       "      <td>5109.0</td>\n",
       "    </tr>\n",
       "    <tr>\n",
       "      <th>mean</th>\n",
       "      <td>36514.0</td>\n",
       "      <td>43.0</td>\n",
       "      <td>0.0</td>\n",
       "      <td>0.0</td>\n",
       "      <td>106.0</td>\n",
       "      <td>29.0</td>\n",
       "      <td>0.0</td>\n",
       "    </tr>\n",
       "    <tr>\n",
       "      <th>std</th>\n",
       "      <td>21162.0</td>\n",
       "      <td>23.0</td>\n",
       "      <td>0.0</td>\n",
       "      <td>0.0</td>\n",
       "      <td>45.0</td>\n",
       "      <td>8.0</td>\n",
       "      <td>0.0</td>\n",
       "    </tr>\n",
       "    <tr>\n",
       "      <th>min</th>\n",
       "      <td>67.0</td>\n",
       "      <td>0.0</td>\n",
       "      <td>0.0</td>\n",
       "      <td>0.0</td>\n",
       "      <td>55.0</td>\n",
       "      <td>10.0</td>\n",
       "      <td>0.0</td>\n",
       "    </tr>\n",
       "    <tr>\n",
       "      <th>25%</th>\n",
       "      <td>17740.0</td>\n",
       "      <td>25.0</td>\n",
       "      <td>0.0</td>\n",
       "      <td>0.0</td>\n",
       "      <td>77.0</td>\n",
       "      <td>24.0</td>\n",
       "      <td>0.0</td>\n",
       "    </tr>\n",
       "    <tr>\n",
       "      <th>50%</th>\n",
       "      <td>36922.0</td>\n",
       "      <td>45.0</td>\n",
       "      <td>0.0</td>\n",
       "      <td>0.0</td>\n",
       "      <td>92.0</td>\n",
       "      <td>28.0</td>\n",
       "      <td>0.0</td>\n",
       "    </tr>\n",
       "    <tr>\n",
       "      <th>75%</th>\n",
       "      <td>54643.0</td>\n",
       "      <td>61.0</td>\n",
       "      <td>0.0</td>\n",
       "      <td>0.0</td>\n",
       "      <td>114.0</td>\n",
       "      <td>33.0</td>\n",
       "      <td>0.0</td>\n",
       "    </tr>\n",
       "    <tr>\n",
       "      <th>max</th>\n",
       "      <td>72940.0</td>\n",
       "      <td>82.0</td>\n",
       "      <td>1.0</td>\n",
       "      <td>1.0</td>\n",
       "      <td>272.0</td>\n",
       "      <td>98.0</td>\n",
       "      <td>1.0</td>\n",
       "    </tr>\n",
       "  </tbody>\n",
       "</table>\n",
       "</div>"
      ],
      "text/plain": [
       "            id     age  hypertension  heart_disease  avg_glucose_level  \\\n",
       "count   5109.0  5109.0        5109.0         5109.0             5109.0   \n",
       "mean   36514.0    43.0           0.0            0.0              106.0   \n",
       "std    21162.0    23.0           0.0            0.0               45.0   \n",
       "min       67.0     0.0           0.0            0.0               55.0   \n",
       "25%    17740.0    25.0           0.0            0.0               77.0   \n",
       "50%    36922.0    45.0           0.0            0.0               92.0   \n",
       "75%    54643.0    61.0           0.0            0.0              114.0   \n",
       "max    72940.0    82.0           1.0            1.0              272.0   \n",
       "\n",
       "          bmi  stroke  \n",
       "count  4908.0  5109.0  \n",
       "mean     29.0     0.0  \n",
       "std       8.0     0.0  \n",
       "min      10.0     0.0  \n",
       "25%      24.0     0.0  \n",
       "50%      28.0     0.0  \n",
       "75%      33.0     0.0  \n",
       "max      98.0     1.0  "
      ]
     },
     "execution_count": 104,
     "metadata": {},
     "output_type": "execute_result"
    }
   ],
   "source": [
    "round(df.describe())"
   ]
  },
  {
   "cell_type": "markdown",
   "id": "f76b33de",
   "metadata": {},
   "source": [
    "The minimum age (0.0) seems a little strange. Let's make sure that nothing else seems unusual about that feature vector."
   ]
  },
  {
   "cell_type": "code",
   "execution_count": 57,
   "id": "d3cae8c3",
   "metadata": {},
   "outputs": [
    {
     "data": {
      "text/html": [
       "<div>\n",
       "<style scoped>\n",
       "    .dataframe tbody tr th:only-of-type {\n",
       "        vertical-align: middle;\n",
       "    }\n",
       "\n",
       "    .dataframe tbody tr th {\n",
       "        vertical-align: top;\n",
       "    }\n",
       "\n",
       "    .dataframe thead th {\n",
       "        text-align: right;\n",
       "    }\n",
       "</style>\n",
       "<table border=\"1\" class=\"dataframe\">\n",
       "  <thead>\n",
       "    <tr style=\"text-align: right;\">\n",
       "      <th></th>\n",
       "      <th>id</th>\n",
       "      <th>gender</th>\n",
       "      <th>age</th>\n",
       "      <th>hypertension</th>\n",
       "      <th>heart_disease</th>\n",
       "      <th>ever_married</th>\n",
       "      <th>work_type</th>\n",
       "      <th>Residence_type</th>\n",
       "      <th>avg_glucose_level</th>\n",
       "      <th>bmi</th>\n",
       "      <th>smoking_status</th>\n",
       "      <th>stroke</th>\n",
       "    </tr>\n",
       "  </thead>\n",
       "  <tbody>\n",
       "    <tr>\n",
       "      <th>1614</th>\n",
       "      <td>47350</td>\n",
       "      <td>Female</td>\n",
       "      <td>0.08</td>\n",
       "      <td>0</td>\n",
       "      <td>0</td>\n",
       "      <td>No</td>\n",
       "      <td>children</td>\n",
       "      <td>Urban</td>\n",
       "      <td>139.67</td>\n",
       "      <td>14.1</td>\n",
       "      <td>Unknown</td>\n",
       "      <td>0</td>\n",
       "    </tr>\n",
       "    <tr>\n",
       "      <th>3295</th>\n",
       "      <td>29955</td>\n",
       "      <td>Male</td>\n",
       "      <td>0.08</td>\n",
       "      <td>0</td>\n",
       "      <td>0</td>\n",
       "      <td>No</td>\n",
       "      <td>children</td>\n",
       "      <td>Rural</td>\n",
       "      <td>70.33</td>\n",
       "      <td>16.9</td>\n",
       "      <td>Unknown</td>\n",
       "      <td>0</td>\n",
       "    </tr>\n",
       "  </tbody>\n",
       "</table>\n",
       "</div>"
      ],
      "text/plain": [
       "         id  gender   age  hypertension  heart_disease ever_married work_type  \\\n",
       "1614  47350  Female  0.08             0              0           No  children   \n",
       "3295  29955    Male  0.08             0              0           No  children   \n",
       "\n",
       "     Residence_type  avg_glucose_level   bmi smoking_status  stroke  \n",
       "1614          Urban             139.67  14.1        Unknown       0  \n",
       "3295          Rural              70.33  16.9        Unknown       0  "
      ]
     },
     "execution_count": 57,
     "metadata": {},
     "output_type": "execute_result"
    }
   ],
   "source": [
    "df[df.age == df.age.min()]"
   ]
  },
  {
   "cell_type": "markdown",
   "id": "3282f9ec",
   "metadata": {},
   "source": [
    "Turns out there are 2 instances where the age is 0.08. The target = 0 in both cases. Let's explore infant patient data a little more:"
   ]
  },
  {
   "cell_type": "code",
   "execution_count": 64,
   "id": "8811bea2",
   "metadata": {},
   "outputs": [
    {
     "data": {
      "text/html": [
       "<div>\n",
       "<style scoped>\n",
       "    .dataframe tbody tr th:only-of-type {\n",
       "        vertical-align: middle;\n",
       "    }\n",
       "\n",
       "    .dataframe tbody tr th {\n",
       "        vertical-align: top;\n",
       "    }\n",
       "\n",
       "    .dataframe thead th {\n",
       "        text-align: right;\n",
       "    }\n",
       "</style>\n",
       "<table border=\"1\" class=\"dataframe\">\n",
       "  <thead>\n",
       "    <tr style=\"text-align: right;\">\n",
       "      <th></th>\n",
       "      <th>id</th>\n",
       "      <th>gender</th>\n",
       "      <th>age</th>\n",
       "      <th>hypertension</th>\n",
       "      <th>heart_disease</th>\n",
       "      <th>ever_married</th>\n",
       "      <th>work_type</th>\n",
       "      <th>Residence_type</th>\n",
       "      <th>avg_glucose_level</th>\n",
       "      <th>bmi</th>\n",
       "      <th>smoking_status</th>\n",
       "      <th>stroke</th>\n",
       "    </tr>\n",
       "  </thead>\n",
       "  <tbody>\n",
       "    <tr>\n",
       "      <th>3295</th>\n",
       "      <td>29955</td>\n",
       "      <td>Male</td>\n",
       "      <td>0.08</td>\n",
       "      <td>0</td>\n",
       "      <td>0</td>\n",
       "      <td>No</td>\n",
       "      <td>children</td>\n",
       "      <td>Rural</td>\n",
       "      <td>70.33</td>\n",
       "      <td>16.9</td>\n",
       "      <td>Unknown</td>\n",
       "      <td>0</td>\n",
       "    </tr>\n",
       "    <tr>\n",
       "      <th>1614</th>\n",
       "      <td>47350</td>\n",
       "      <td>Female</td>\n",
       "      <td>0.08</td>\n",
       "      <td>0</td>\n",
       "      <td>0</td>\n",
       "      <td>No</td>\n",
       "      <td>children</td>\n",
       "      <td>Urban</td>\n",
       "      <td>139.67</td>\n",
       "      <td>14.1</td>\n",
       "      <td>Unknown</td>\n",
       "      <td>0</td>\n",
       "    </tr>\n",
       "    <tr>\n",
       "      <th>3618</th>\n",
       "      <td>22877</td>\n",
       "      <td>Male</td>\n",
       "      <td>0.16</td>\n",
       "      <td>0</td>\n",
       "      <td>0</td>\n",
       "      <td>No</td>\n",
       "      <td>children</td>\n",
       "      <td>Urban</td>\n",
       "      <td>114.71</td>\n",
       "      <td>17.4</td>\n",
       "      <td>Unknown</td>\n",
       "      <td>0</td>\n",
       "    </tr>\n",
       "    <tr>\n",
       "      <th>4021</th>\n",
       "      <td>8247</td>\n",
       "      <td>Male</td>\n",
       "      <td>0.16</td>\n",
       "      <td>0</td>\n",
       "      <td>0</td>\n",
       "      <td>No</td>\n",
       "      <td>children</td>\n",
       "      <td>Urban</td>\n",
       "      <td>109.52</td>\n",
       "      <td>13.9</td>\n",
       "      <td>Unknown</td>\n",
       "      <td>0</td>\n",
       "    </tr>\n",
       "    <tr>\n",
       "      <th>3968</th>\n",
       "      <td>41500</td>\n",
       "      <td>Male</td>\n",
       "      <td>0.16</td>\n",
       "      <td>0</td>\n",
       "      <td>0</td>\n",
       "      <td>No</td>\n",
       "      <td>children</td>\n",
       "      <td>Rural</td>\n",
       "      <td>69.79</td>\n",
       "      <td>13.0</td>\n",
       "      <td>Unknown</td>\n",
       "      <td>0</td>\n",
       "    </tr>\n",
       "    <tr>\n",
       "      <th>3392</th>\n",
       "      <td>11371</td>\n",
       "      <td>Male</td>\n",
       "      <td>0.24</td>\n",
       "      <td>0</td>\n",
       "      <td>0</td>\n",
       "      <td>No</td>\n",
       "      <td>children</td>\n",
       "      <td>Urban</td>\n",
       "      <td>89.28</td>\n",
       "      <td>14.2</td>\n",
       "      <td>Unknown</td>\n",
       "      <td>0</td>\n",
       "    </tr>\n",
       "    <tr>\n",
       "      <th>996</th>\n",
       "      <td>53279</td>\n",
       "      <td>Male</td>\n",
       "      <td>0.24</td>\n",
       "      <td>0</td>\n",
       "      <td>0</td>\n",
       "      <td>No</td>\n",
       "      <td>children</td>\n",
       "      <td>Rural</td>\n",
       "      <td>118.87</td>\n",
       "      <td>16.3</td>\n",
       "      <td>Unknown</td>\n",
       "      <td>0</td>\n",
       "    </tr>\n",
       "    <tr>\n",
       "      <th>2898</th>\n",
       "      <td>64974</td>\n",
       "      <td>Male</td>\n",
       "      <td>0.24</td>\n",
       "      <td>0</td>\n",
       "      <td>0</td>\n",
       "      <td>No</td>\n",
       "      <td>children</td>\n",
       "      <td>Urban</td>\n",
       "      <td>58.35</td>\n",
       "      <td>18.6</td>\n",
       "      <td>Unknown</td>\n",
       "      <td>0</td>\n",
       "    </tr>\n",
       "    <tr>\n",
       "      <th>4293</th>\n",
       "      <td>69222</td>\n",
       "      <td>Male</td>\n",
       "      <td>0.24</td>\n",
       "      <td>0</td>\n",
       "      <td>0</td>\n",
       "      <td>No</td>\n",
       "      <td>children</td>\n",
       "      <td>Urban</td>\n",
       "      <td>57.09</td>\n",
       "      <td>19.4</td>\n",
       "      <td>Unknown</td>\n",
       "      <td>0</td>\n",
       "    </tr>\n",
       "    <tr>\n",
       "      <th>1999</th>\n",
       "      <td>42500</td>\n",
       "      <td>Male</td>\n",
       "      <td>0.24</td>\n",
       "      <td>0</td>\n",
       "      <td>0</td>\n",
       "      <td>No</td>\n",
       "      <td>children</td>\n",
       "      <td>Rural</td>\n",
       "      <td>146.97</td>\n",
       "      <td>18.5</td>\n",
       "      <td>Unknown</td>\n",
       "      <td>0</td>\n",
       "    </tr>\n",
       "  </tbody>\n",
       "</table>\n",
       "</div>"
      ],
      "text/plain": [
       "         id  gender   age  hypertension  heart_disease ever_married work_type  \\\n",
       "3295  29955    Male  0.08             0              0           No  children   \n",
       "1614  47350  Female  0.08             0              0           No  children   \n",
       "3618  22877    Male  0.16             0              0           No  children   \n",
       "4021   8247    Male  0.16             0              0           No  children   \n",
       "3968  41500    Male  0.16             0              0           No  children   \n",
       "3392  11371    Male  0.24             0              0           No  children   \n",
       "996   53279    Male  0.24             0              0           No  children   \n",
       "2898  64974    Male  0.24             0              0           No  children   \n",
       "4293  69222    Male  0.24             0              0           No  children   \n",
       "1999  42500    Male  0.24             0              0           No  children   \n",
       "\n",
       "     Residence_type  avg_glucose_level   bmi smoking_status  stroke  \n",
       "3295          Rural              70.33  16.9        Unknown       0  \n",
       "1614          Urban             139.67  14.1        Unknown       0  \n",
       "3618          Urban             114.71  17.4        Unknown       0  \n",
       "4021          Urban             109.52  13.9        Unknown       0  \n",
       "3968          Rural              69.79  13.0        Unknown       0  \n",
       "3392          Urban              89.28  14.2        Unknown       0  \n",
       "996           Rural             118.87  16.3        Unknown       0  \n",
       "2898          Urban              58.35  18.6        Unknown       0  \n",
       "4293          Urban              57.09  19.4        Unknown       0  \n",
       "1999          Rural             146.97  18.5        Unknown       0  "
      ]
     },
     "execution_count": 64,
     "metadata": {},
     "output_type": "execute_result"
    }
   ],
   "source": [
    "df.sort_values(by='age').head(10)"
   ]
  },
  {
   "cell_type": "code",
   "execution_count": 18,
   "id": "39f80e4f",
   "metadata": {},
   "outputs": [
    {
     "data": {
      "text/plain": [
       "43"
      ]
     },
     "execution_count": 18,
     "metadata": {},
     "output_type": "execute_result"
    }
   ],
   "source": [
    "len(df[df.age<1])"
   ]
  },
  {
   "cell_type": "markdown",
   "id": "bc68d762",
   "metadata": {},
   "source": [
    "### Exploratory Data Analysis"
   ]
  },
  {
   "cell_type": "markdown",
   "id": "21a5fb2d",
   "metadata": {},
   "source": [
    "The 10 feature vectors shown above were all missing smoking_status information. Let's explore the smoking_status feature a little more for young persons:"
   ]
  },
  {
   "cell_type": "code",
   "execution_count": 67,
   "id": "6f866502",
   "metadata": {},
   "outputs": [
    {
     "data": {
      "text/plain": [
       "Unknown    43\n",
       "Name: smoking_status, dtype: int64"
      ]
     },
     "execution_count": 67,
     "metadata": {},
     "output_type": "execute_result"
    }
   ],
   "source": [
    "df[df.age<1]['smoking_status'].value_counts()"
   ]
  },
  {
   "cell_type": "code",
   "execution_count": 68,
   "id": "5e482218",
   "metadata": {},
   "outputs": [
    {
     "data": {
      "text/plain": [
       "Unknown    472\n",
       "Name: smoking_status, dtype: int64"
      ]
     },
     "execution_count": 68,
     "metadata": {},
     "output_type": "execute_result"
    }
   ],
   "source": [
    "df[df.age<10]['smoking_status'].value_counts()"
   ]
  },
  {
   "cell_type": "code",
   "execution_count": 69,
   "id": "eec2e7cc",
   "metadata": {},
   "outputs": [
    {
     "data": {
      "text/plain": [
       "Unknown            614\n",
       "never smoked        65\n",
       "formerly smoked     17\n",
       "smokes               3\n",
       "Name: smoking_status, dtype: int64"
      ]
     },
     "execution_count": 69,
     "metadata": {},
     "output_type": "execute_result"
    }
   ],
   "source": [
    "df[df.age<15]['smoking_status'].value_counts()"
   ]
  },
  {
   "cell_type": "code",
   "execution_count": 75,
   "id": "5675f32b",
   "metadata": {},
   "outputs": [
    {
     "data": {
      "text/plain": [
       "0.02861230329041488"
      ]
     },
     "execution_count": 75,
     "metadata": {},
     "output_type": "execute_result"
    }
   ],
   "source": [
    "len(df[(df['smoking_status'].isin(['formerly smoked','smokes'])) & (df.age<15)]) / len(df[df.age<15])"
   ]
  },
  {
   "cell_type": "markdown",
   "id": "53bc15f9",
   "metadata": {},
   "source": [
    "Only 2.861% of study participants under the age of 15 are recorded as \"smokes\" or \"formerly smoked\". We will therefore classify the 614 \"Unknown[s]\" as \"never smoked\" when we prep the data."
   ]
  },
  {
   "cell_type": "code",
   "execution_count": 76,
   "id": "a12c04ea",
   "metadata": {},
   "outputs": [
    {
     "data": {
      "text/plain": [
       "never smoked       1892\n",
       "Unknown            1544\n",
       "formerly smoked     885\n",
       "smokes              789\n",
       "Name: smoking_status, dtype: int64"
      ]
     },
     "execution_count": 76,
     "metadata": {},
     "output_type": "execute_result"
    }
   ],
   "source": [
    "df.smoking_status.value_counts()"
   ]
  },
  {
   "cell_type": "code",
   "execution_count": 77,
   "id": "5af41e9a",
   "metadata": {},
   "outputs": [
    {
     "data": {
      "text/plain": [
       "0.39766839378238344"
      ]
     },
     "execution_count": 77,
     "metadata": {},
     "output_type": "execute_result"
    }
   ],
   "source": [
    "len(df[(df['smoking_status'].isin(['Unknown'])) & (df.age<15)]) / len(df[df.smoking_status=='Unknown'])"
   ]
  },
  {
   "cell_type": "markdown",
   "id": "5c3874a6",
   "metadata": {},
   "source": [
    "The new assignment for \"Unknown[s]\" under the age of 15 will take care of 40% of the total \"Unknowns[s]\" of the smoking_status feature"
   ]
  },
  {
   "cell_type": "markdown",
   "id": "c3c8164c",
   "metadata": {},
   "source": [
    "#### Balance\n",
    "The distribution of classes must be considered when classification is going to be performed. We want to see a uniform distribution of classes."
   ]
  },
  {
   "cell_type": "code",
   "execution_count": 105,
   "id": "0ee0e53e",
   "metadata": {},
   "outputs": [
    {
     "data": {
      "text/plain": [
       "<AxesSubplot:xlabel='stroke', ylabel='count'>"
      ]
     },
     "execution_count": 105,
     "metadata": {},
     "output_type": "execute_result"
    },
    {
     "data": {
      "image/png": "[encoded data removed]",
      "text/plain": [
       "<Figure size 576x432 with 1 Axes>"
      ]
     },
     "metadata": {},
     "output_type": "display_data"
    }
   ],
   "source": [
    "sns.set_theme(style=\"whitegrid\")\n",
    "sns.set(font_scale=2)\n",
    "\n",
    "plt.figure(figsize=(8,6))\n",
    "sns.countplot(data=df, x='stroke', palette='Paired')"
   ]
  },
  {
   "cell_type": "code",
   "execution_count": 39,
   "id": "863d9998",
   "metadata": {},
   "outputs": [
    {
     "data": {
      "text/plain": [
       "249"
      ]
     },
     "execution_count": 39,
     "metadata": {},
     "output_type": "execute_result"
    }
   ],
   "source": [
    "len(df[df['stroke']==1])"
   ]
  },
  {
   "cell_type": "code",
   "execution_count": 40,
   "id": "73a285b3",
   "metadata": {},
   "outputs": [
    {
     "data": {
      "text/plain": [
       "4.87279843444227"
      ]
     },
     "execution_count": 40,
     "metadata": {},
     "output_type": "execute_result"
    }
   ],
   "source": [
    "(len(df[(df.stroke==1)]) / len(df)) * 100"
   ]
  },
  {
   "cell_type": "markdown",
   "id": "b6862ad0",
   "metadata": {},
   "source": [
    "## Yikes!\n",
    "The minority class, stroke = 1, represents only 4.873% of outcomes (249 occurences). Without further intervention, the imbalance of the target variable will likely result in poor classification results. \n",
    "\n",
    "To address the imbalance, we can either undersample the majority class or oversample the minority class. Given how small the dataset is (5110 instances), we will oversample the minority class using Synthetic Minority Oversampling Technique (SMOTE). \n",
    "\n",
    "More on that later."
   ]
  },
  {
   "cell_type": "markdown",
   "id": "43097cf5-9cdf-47f3-bba4-b6a887a26dea",
   "metadata": {},
   "source": [
    "##### Gender"
   ]
  },
  {
   "cell_type": "code",
   "execution_count": 98,
   "id": "9f04a705-92b6-4cad-8c54-254a1799f952",
   "metadata": {},
   "outputs": [
    {
     "data": {
      "text/plain": [
       "Female    2994\n",
       "Male      2115\n",
       "Other        1\n",
       "Name: gender, dtype: int64"
      ]
     },
     "execution_count": 98,
     "metadata": {},
     "output_type": "execute_result"
    }
   ],
   "source": [
    "df.gender.value_counts()"
   ]
  },
  {
   "cell_type": "code",
   "execution_count": 7,
   "id": "ff421fe0-e903-4a2f-87cc-ca9181dc12e9",
   "metadata": {},
   "outputs": [],
   "source": [
    "df.drop(df[df['gender'] == 'Other'].index, inplace = True)"
   ]
  },
  {
   "cell_type": "code",
   "execution_count": 10,
   "id": "5180a664-a250-4e5b-a92f-dd157af2f5a6",
   "metadata": {},
   "outputs": [
    {
     "data": {
      "image/png": "[encoded data removed]",
      "text/plain": [
       "<Figure size 1080x720 with 2 Axes>"
      ]
     },
     "metadata": {},
     "output_type": "display_data"
    }
   ],
   "source": [
    "labels = ['Female', 'Male']\n",
    "colors = ['#ffc0cb', '#89cff0']\n",
    "\n",
    "fig, (ax1, ax2) = plt.subplots(1, 2, figsize=(15,10))\n",
    "\n",
    "ax1.pie(x=df.gender.value_counts(), labels=labels, labeldistance=None, \n",
    "        autopct='%1.1f%%', colors=colors, wedgeprops=dict(width=0.5, edgecolor='w'), \n",
    "        textprops={'fontsize': 15})\n",
    "ax2.pie(x=df[df.stroke==1].gender.value_counts(), labels=labels, labeldistance=None, \n",
    "        autopct='%1.1f%%', colors=colors, wedgeprops=dict(width=0.5, edgecolor='w'), \n",
    "        textprops={'fontsize': 15})\n",
    "\n",
    "\n",
    "ax1.legend(prop={'size': 15})\n",
    "ax2.legend(prop={'size': 15})\n",
    "\n",
    "ax1.axis('scaled')\n",
    "ax2.axis('scaled')\n",
    "\n",
    "ax1.set_title('Overall Gender Distribution', fontdict={'fontsize':20})\n",
    "ax2.set_title('Gender Distribution of Stroke=1 Outcomes', fontdict={'fontsize':20})\n",
    "plt.tight_layout(pad=3)\n",
    "plt.show()"
   ]
  },
  {
   "cell_type": "code",
   "execution_count": 11,
   "id": "7da08294",
   "metadata": {},
   "outputs": [
    {
     "data": {
      "text/plain": [
       "Text(0.5, 1.0, 'Gender Distribution of Stroke=1 Outcomes')"
      ]
     },
     "execution_count": 11,
     "metadata": {},
     "output_type": "execute_result"
    },
    {
     "data": {
      "image/png": "[encoded data removed]",
      "text/plain": [
       "<Figure size 576x432 with 1 Axes>"
      ]
     },
     "metadata": {},
     "output_type": "display_data"
    }
   ],
   "source": [
    "plt.figure(figsize=(8,6))\n",
    "sns.countplot(x='gender', data=df[df.stroke == 1], palette='Paired').set_title('Gender Distribution of Stroke=1 Outcomes', fontsize=20)"
   ]
  },
  {
   "cell_type": "markdown",
   "id": "461b2b3a",
   "metadata": {},
   "source": [
    "#### Let's evaluate stroke prevalence as a function of age using KDEs"
   ]
  },
  {
   "cell_type": "code",
   "execution_count": 12,
   "id": "32763ed1",
   "metadata": {},
   "outputs": [
    {
     "data": {
      "text/plain": [
       "<AxesSubplot:xlabel='age', ylabel='Count'>"
      ]
     },
     "execution_count": 12,
     "metadata": {},
     "output_type": "execute_result"
    },
    {
     "data": {
      "image/png": "[encoded data removed]",
      "text/plain": [
       "<Figure size 1080x576 with 1 Axes>"
      ]
     },
     "metadata": {},
     "output_type": "display_data"
    }
   ],
   "source": [
    "plt.figure(figsize=(15,8))\n",
    "sns.histplot(data=df, x='age', hue='stroke', bins=20, kde=True, palette='Paired')"
   ]
  },
  {
   "cell_type": "code",
   "execution_count": 13,
   "id": "35c1b406-2431-4a0c-a265-5b10274fc1c7",
   "metadata": {},
   "outputs": [
    {
     "data": {
      "image/png": "[encoded data removed]",
      "text/plain": [
       "<Figure size 1800x1080 with 2 Axes>"
      ]
     },
     "metadata": {},
     "output_type": "display_data"
    }
   ],
   "source": [
    "fig, (ax1, ax2) = plt.subplots(2, figsize=(25,15))\n",
    "sns.set(font_scale=2)\n",
    "\n",
    "sns.boxenplot(ax=ax1, x='age', data=df, palette='Paired')\n",
    "sns.boxenplot(ax=ax2, x=df[df.stroke==1].age, data=df, palette='Paired')\n",
    "\n",
    "ax1.set_title('Overall Age Distribution',)\n",
    "ax2.set_title('Age Distribution of Stroke=1 Outcomes',)\n",
    "\n",
    "\n",
    "fig.tight_layout(pad=2.0)"
   ]
  },
  {
   "cell_type": "code",
   "execution_count": 14,
   "id": "063ca5f0",
   "metadata": {},
   "outputs": [
    {
     "data": {
      "text/plain": [
       "Text(0.5, 1.0, 'Work Type')"
      ]
     },
     "execution_count": 14,
     "metadata": {},
     "output_type": "execute_result"
    },
    {
     "data": {
      "image/png": "[encoded data removed]",
      "text/plain": [
       "<Figure size 864x576 with 1 Axes>"
      ]
     },
     "metadata": {},
     "output_type": "display_data"
    }
   ],
   "source": [
    "plt.figure(figsize=(12,8))\n",
    "sns.countplot(x='work_type', data=df, hue='stroke', palette='Paired')\n",
    "plt.xticks(rotation=45)\n",
    "plt.legend(loc='upper right')\n",
    "plt.title('Work Type')"
   ]
  },
  {
   "cell_type": "code",
   "execution_count": 15,
   "id": "929f0799",
   "metadata": {},
   "outputs": [
    {
     "data": {
      "text/plain": [
       "2"
      ]
     },
     "execution_count": 15,
     "metadata": {},
     "output_type": "execute_result"
    }
   ],
   "source": [
    "len(df[(df.work_type=='children') & (df.stroke==1)])"
   ]
  },
  {
   "cell_type": "code",
   "execution_count": 22,
   "id": "09d0251b-07c1-4123-80d1-f19681286362",
   "metadata": {},
   "outputs": [
    {
     "data": {
      "text/plain": [
       "0"
      ]
     },
     "execution_count": 22,
     "metadata": {},
     "output_type": "execute_result"
    }
   ],
   "source": [
    "len(df[(df.work_type=='Never_worked') & (df.stroke==1)])"
   ]
  },
  {
   "cell_type": "markdown",
   "id": "9e8a80c9",
   "metadata": {},
   "source": [
    "I'm guessing that the majority of individuals under this classification are young. If so, we should be cognizant of potential multicollinearity between 'age' and 'work_type'."
   ]
  },
  {
   "cell_type": "code",
   "execution_count": 29,
   "id": "f7a07c45",
   "metadata": {},
   "outputs": [
    {
     "data": {
      "text/html": [
       "<div>\n",
       "<style scoped>\n",
       "    .dataframe tbody tr th:only-of-type {\n",
       "        vertical-align: middle;\n",
       "    }\n",
       "\n",
       "    .dataframe tbody tr th {\n",
       "        vertical-align: top;\n",
       "    }\n",
       "\n",
       "    .dataframe thead th {\n",
       "        text-align: right;\n",
       "    }\n",
       "</style>\n",
       "<table border=\"1\" class=\"dataframe\">\n",
       "  <thead>\n",
       "    <tr style=\"text-align: right;\">\n",
       "      <th></th>\n",
       "      <th>id</th>\n",
       "      <th>age</th>\n",
       "      <th>hypertension</th>\n",
       "      <th>heart_disease</th>\n",
       "      <th>avg_glucose_level</th>\n",
       "      <th>bmi</th>\n",
       "      <th>stroke</th>\n",
       "    </tr>\n",
       "  </thead>\n",
       "  <tbody>\n",
       "    <tr>\n",
       "      <th>count</th>\n",
       "      <td>22.000000</td>\n",
       "      <td>22.000000</td>\n",
       "      <td>22.0</td>\n",
       "      <td>22.0</td>\n",
       "      <td>22.000000</td>\n",
       "      <td>22.000000</td>\n",
       "      <td>22.0</td>\n",
       "    </tr>\n",
       "    <tr>\n",
       "      <th>mean</th>\n",
       "      <td>38274.409091</td>\n",
       "      <td>16.181818</td>\n",
       "      <td>0.0</td>\n",
       "      <td>0.0</td>\n",
       "      <td>96.042727</td>\n",
       "      <td>25.545455</td>\n",
       "      <td>0.0</td>\n",
       "    </tr>\n",
       "    <tr>\n",
       "      <th>std</th>\n",
       "      <td>20166.419938</td>\n",
       "      <td>2.342899</td>\n",
       "      <td>0.0</td>\n",
       "      <td>0.0</td>\n",
       "      <td>28.697132</td>\n",
       "      <td>7.441757</td>\n",
       "      <td>0.0</td>\n",
       "    </tr>\n",
       "    <tr>\n",
       "      <th>min</th>\n",
       "      <td>11702.000000</td>\n",
       "      <td>13.000000</td>\n",
       "      <td>0.0</td>\n",
       "      <td>0.0</td>\n",
       "      <td>59.990000</td>\n",
       "      <td>14.600000</td>\n",
       "      <td>0.0</td>\n",
       "    </tr>\n",
       "    <tr>\n",
       "      <th>25%</th>\n",
       "      <td>19830.750000</td>\n",
       "      <td>14.250000</td>\n",
       "      <td>0.0</td>\n",
       "      <td>0.0</td>\n",
       "      <td>78.457500</td>\n",
       "      <td>20.975000</td>\n",
       "      <td>0.0</td>\n",
       "    </tr>\n",
       "    <tr>\n",
       "      <th>50%</th>\n",
       "      <td>36054.500000</td>\n",
       "      <td>16.000000</td>\n",
       "      <td>0.0</td>\n",
       "      <td>0.0</td>\n",
       "      <td>86.020000</td>\n",
       "      <td>23.150000</td>\n",
       "      <td>0.0</td>\n",
       "    </tr>\n",
       "    <tr>\n",
       "      <th>75%</th>\n",
       "      <td>57202.000000</td>\n",
       "      <td>17.000000</td>\n",
       "      <td>0.0</td>\n",
       "      <td>0.0</td>\n",
       "      <td>112.807500</td>\n",
       "      <td>28.350000</td>\n",
       "      <td>0.0</td>\n",
       "    </tr>\n",
       "    <tr>\n",
       "      <th>max</th>\n",
       "      <td>71966.000000</td>\n",
       "      <td>23.000000</td>\n",
       "      <td>0.0</td>\n",
       "      <td>0.0</td>\n",
       "      <td>161.280000</td>\n",
       "      <td>44.900000</td>\n",
       "      <td>0.0</td>\n",
       "    </tr>\n",
       "  </tbody>\n",
       "</table>\n",
       "</div>"
      ],
      "text/plain": [
       "                 id        age  hypertension  heart_disease  \\\n",
       "count     22.000000  22.000000          22.0           22.0   \n",
       "mean   38274.409091  16.181818           0.0            0.0   \n",
       "std    20166.419938   2.342899           0.0            0.0   \n",
       "min    11702.000000  13.000000           0.0            0.0   \n",
       "25%    19830.750000  14.250000           0.0            0.0   \n",
       "50%    36054.500000  16.000000           0.0            0.0   \n",
       "75%    57202.000000  17.000000           0.0            0.0   \n",
       "max    71966.000000  23.000000           0.0            0.0   \n",
       "\n",
       "       avg_glucose_level        bmi  stroke  \n",
       "count          22.000000  22.000000    22.0  \n",
       "mean           96.042727  25.545455     0.0  \n",
       "std            28.697132   7.441757     0.0  \n",
       "min            59.990000  14.600000     0.0  \n",
       "25%            78.457500  20.975000     0.0  \n",
       "50%            86.020000  23.150000     0.0  \n",
       "75%           112.807500  28.350000     0.0  \n",
       "max           161.280000  44.900000     0.0  "
      ]
     },
     "execution_count": 29,
     "metadata": {},
     "output_type": "execute_result"
    }
   ],
   "source": [
    "df[df.work_type == 'Never_worked'].describe()"
   ]
  },
  {
   "cell_type": "markdown",
   "id": "9e1270a2",
   "metadata": {},
   "source": [
    "Indeed, the youngest is 13 and the oldest is 23. We'll keep this in mind as we move forward."
   ]
  },
  {
   "cell_type": "code",
   "execution_count": 30,
   "id": "de420204-ea10-4390-8e2f-acc4ea6d7fb9",
   "metadata": {},
   "outputs": [
    {
     "data": {
      "text/plain": [
       "[Text(0, 0, 'formerly smoked'),\n",
       " Text(1, 0, 'never smoked'),\n",
       " Text(2, 0, 'smokes'),\n",
       " Text(3, 0, 'Unknown')]"
      ]
     },
     "execution_count": 30,
     "metadata": {},
     "output_type": "execute_result"
    },
    {
     "data": {
      "image/png": "[encoded data removed]",
      "text/plain": [
       "<Figure size 2160x2160 with 5 Axes>"
      ]
     },
     "metadata": {},
     "output_type": "display_data"
    }
   ],
   "source": [
    "sns.set(font_scale=2)\n",
    "plt.figure(figsize=(30,30))\n",
    "ax1 = plt.subplot(321)\n",
    "ax2 = plt.subplot(323)\n",
    "ax3 = plt.subplot(325)\n",
    "ax4 = plt.subplot(222)\n",
    "ax5 = plt.subplot(224)\n",
    "\n",
    "sns.countplot(data=df, ax=ax1, x='Residence_type', palette='Paired',)\n",
    "sns.countplot(data=df, ax=ax2, x='ever_married',palette='Paired')\n",
    "sns.countplot(data=df, ax=ax3, x='hypertension', palette='Paired')\n",
    "sns.countplot(data=df, ax=ax4, x='heart_disease',  palette='Paired')\n",
    "sns.countplot(data=df, ax=ax5, x='smoking_status', palette='Paired')\n",
    "\n",
    "ax5.set_xticklabels(ax5.get_xticklabels(),rotation = 30, horizontalalignment='right')"
   ]
  },
  {
   "cell_type": "markdown",
   "id": "a929ca9d-f70d-45b8-ad6e-a5ed37353e30",
   "metadata": {},
   "source": [
    "The above graphs further support the need for a resampling technique. \n",
    "\n",
    "Also, recall that ~40% of the 'Unknown' smoking_status instances are going to be recategorized as 'never smoked'"
   ]
  },
  {
   "cell_type": "code",
   "execution_count": 33,
   "id": "60cc119f-5b51-4f3c-b05c-ad1ab6953ed8",
   "metadata": {},
   "outputs": [
    {
     "data": {
      "image/png": "[encoded data removed]",
      "text/plain": [
       "<Figure size 1440x1440 with 4 Axes>"
      ]
     },
     "metadata": {},
     "output_type": "display_data"
    }
   ],
   "source": [
    "fig, ((ax1, ax2), (ax3, ax4)) = plt.subplots(2, 2, figsize=(20,20))\n",
    "\n",
    "sns.histplot(data=df, ax=ax1, x='bmi', hue='stroke', palette='Paired').set_title('BMI vs Stroke')\n",
    "sns.histplot(data=df, ax=ax2, x='avg_glucose_level',  hue='stroke', palette='Paired').set_title('Glucose vs Stroke')\n",
    "sns.histplot(data=df, ax=ax3, x='bmi', hue='stroke', palette='Paired').set_title('BMI vs Stroke')\n",
    "sns.histplot(data=df, ax=ax4, x='avg_glucose_level',  hue='stroke', palette='Paired').set_title('Glucose vs Stroke')\n",
    "ax3.set_ylim([0,25])\n",
    "ax4.set_ylim([0,20])\n",
    "plt.tight_layout(pad=2)"
   ]
  },
  {
   "cell_type": "markdown",
   "id": "110e484e-0efd-4b2c-9bc4-0a28d4bb8e08",
   "metadata": {},
   "source": [
    "Visually, there is no clear correlation between either bmi and stroke outcomes or avg_glucose_level and stroke outcomes in our dataset. "
   ]
  },
  {
   "cell_type": "code",
   "execution_count": 35,
   "id": "6d4e3639",
   "metadata": {},
   "outputs": [
    {
     "data": {
      "text/plain": [
       "3.9342337052260716"
      ]
     },
     "execution_count": 35,
     "metadata": {},
     "output_type": "execute_result"
    }
   ],
   "source": [
    "df.bmi.isna().sum()/len(df) * 100"
   ]
  },
  {
   "cell_type": "markdown",
   "id": "d94028a4",
   "metadata": {},
   "source": [
    "Only 3.93% of bmi values are NaN, so I'll impute the median for missing values of this feature."
   ]
  },
  {
   "cell_type": "code",
   "execution_count": 36,
   "id": "9c853e08",
   "metadata": {},
   "outputs": [
    {
     "data": {
      "text/plain": [
       "<AxesSubplot:xlabel='avg_glucose_level'>"
      ]
     },
     "execution_count": 36,
     "metadata": {},
     "output_type": "execute_result"
    },
    {
     "data": {
      "image/png": "[encoded data removed]",
      "text/plain": [
       "<Figure size 864x576 with 1 Axes>"
      ]
     },
     "metadata": {},
     "output_type": "display_data"
    }
   ],
   "source": [
    "plt.figure(figsize=(12,8))\n",
    "sns.boxplot(data=df, x='avg_glucose_level', palette='Paired')"
   ]
  },
  {
   "cell_type": "markdown",
   "id": "b677bb70",
   "metadata": {},
   "source": [
    "avg_glucose_level appears to have a lot of outliers. Let's figure out just how many outliers it has.\n"
   ]
  },
  {
   "cell_type": "code",
   "execution_count": 347,
   "id": "0e26dba7",
   "metadata": {},
   "outputs": [
    {
     "data": {
      "text/plain": [
       "52"
      ]
     },
     "execution_count": 347,
     "metadata": {},
     "output_type": "execute_result"
    }
   ],
   "source": [
    "len(df[df['avg_glucose_level'] > df['avg_glucose_level'].quantile(0.99)])"
   ]
  },
  {
   "cell_type": "code",
   "execution_count": 38,
   "id": "d682456d",
   "metadata": {},
   "outputs": [],
   "source": [
    "outliers = df[(np.abs(df.avg_glucose_level - df.avg_glucose_level.mean()) > (3*df.avg_glucose_level.std()))]"
   ]
  },
  {
   "cell_type": "code",
   "execution_count": 349,
   "id": "bbce1ef4",
   "metadata": {},
   "outputs": [
    {
     "data": {
      "text/plain": [
       "49"
      ]
     },
     "execution_count": 349,
     "metadata": {},
     "output_type": "execute_result"
    }
   ],
   "source": [
    "len(outliers)"
   ]
  },
  {
   "cell_type": "markdown",
   "id": "b5f4e462",
   "metadata": {},
   "source": [
    "There are 52 individuals above the 99th percentile and 49 individuals that are more than 3 standard deviations above the mean.\n",
    "\n",
    "We know that stroke=1 is true for only ~5% of the dataset so before we consider removing the anomalous individuals, let's take note of the effect of an exceptionally high avg_glucose_level on the target variable. "
   ]
  },
  {
   "cell_type": "code",
   "execution_count": 39,
   "id": "1d114209",
   "metadata": {},
   "outputs": [
    {
     "data": {
      "text/plain": [
       "Text(0.5, 1.0, 'Stroke Outcomes w/ Respect to Anomolous Glucose Levels')"
      ]
     },
     "execution_count": 39,
     "metadata": {},
     "output_type": "execute_result"
    },
    {
     "data": {
      "image/png": "[encoded data removed]",
      "text/plain": [
       "<Figure size 576x432 with 1 Axes>"
      ]
     },
     "metadata": {},
     "output_type": "display_data"
    }
   ],
   "source": [
    "plt.figure(figsize=(8,6))\n",
    "sns.countplot(data=outliers, x='stroke', palette='Paired')\n",
    "\n",
    "plt.title('Stroke Outcomes w/ Respect to Anomolous Glucose Levels', fontsize='15')"
   ]
  },
  {
   "cell_type": "code",
   "execution_count": 52,
   "id": "8156a6b6",
   "metadata": {},
   "outputs": [
    {
     "data": {
      "text/plain": [
       "18.367346938775512"
      ]
     },
     "execution_count": 52,
     "metadata": {},
     "output_type": "execute_result"
    }
   ],
   "source": [
    "len(outliers[outliers.stroke==1])/len(outliers)*100\n",
    "# 18% of our outliers are of the target class"
   ]
  },
  {
   "cell_type": "code",
   "execution_count": 54,
   "id": "92ac2791",
   "metadata": {},
   "outputs": [
    {
     "data": {
      "text/plain": [
       "3.614457831325301"
      ]
     },
     "execution_count": 54,
     "metadata": {},
     "output_type": "execute_result"
    }
   ],
   "source": [
    "# Percentage of stroke = 1 instances where avg_glucose is an outlier\n",
    "(len(outliers[outliers.stroke==1])/len(df[df.stroke==1])) * 100"
   ]
  },
  {
   "cell_type": "markdown",
   "id": "fa3679d0",
   "metadata": {},
   "source": [
    "### Looks like these aren't outliers, rather we have a wide distribution"
   ]
  },
  {
   "cell_type": "markdown",
   "id": "220a3e6e",
   "metadata": {},
   "source": [
    "We can see that 18.367% of the individuals with an avg_glucose_level more than 3 standard deviations above the mean have had a stroke, accounting for 3.614% of our total stroke=1 instances."
   ]
  },
  {
   "cell_type": "code",
   "execution_count": 55,
   "id": "938bf18d",
   "metadata": {},
   "outputs": [
    {
     "data": {
      "text/plain": [
       "<seaborn.axisgrid.JointGrid at 0x7f787b46ab20>"
      ]
     },
     "execution_count": 55,
     "metadata": {},
     "output_type": "execute_result"
    },
    {
     "data": {
      "image/png": "[encoded data removed]",
      "text/plain": [
       "<Figure size 432x432 with 3 Axes>"
      ]
     },
     "metadata": {},
     "output_type": "display_data"
    }
   ],
   "source": [
    "sns.set(font_scale=1)\n",
    "sns.jointplot(data=df, x='bmi', y='avg_glucose_level', hue='stroke', kind='kde')"
   ]
  },
  {
   "cell_type": "markdown",
   "id": "9101322d",
   "metadata": {},
   "source": [
    "# Feature Engineering"
   ]
  },
  {
   "cell_type": "code",
   "execution_count": 56,
   "id": "e06a2b8f",
   "metadata": {},
   "outputs": [
    {
     "data": {
      "text/html": [
       "<div>\n",
       "<style scoped>\n",
       "    .dataframe tbody tr th:only-of-type {\n",
       "        vertical-align: middle;\n",
       "    }\n",
       "\n",
       "    .dataframe tbody tr th {\n",
       "        vertical-align: top;\n",
       "    }\n",
       "\n",
       "    .dataframe thead th {\n",
       "        text-align: right;\n",
       "    }\n",
       "</style>\n",
       "<table border=\"1\" class=\"dataframe\">\n",
       "  <thead>\n",
       "    <tr style=\"text-align: right;\">\n",
       "      <th></th>\n",
       "      <th>id</th>\n",
       "      <th>gender</th>\n",
       "      <th>age</th>\n",
       "      <th>hypertension</th>\n",
       "      <th>heart_disease</th>\n",
       "      <th>ever_married</th>\n",
       "      <th>work_type</th>\n",
       "      <th>Residence_type</th>\n",
       "      <th>avg_glucose_level</th>\n",
       "      <th>bmi</th>\n",
       "      <th>smoking_status</th>\n",
       "      <th>stroke</th>\n",
       "    </tr>\n",
       "  </thead>\n",
       "  <tbody>\n",
       "    <tr>\n",
       "      <th>162</th>\n",
       "      <td>69768</td>\n",
       "      <td>Female</td>\n",
       "      <td>1.32</td>\n",
       "      <td>0</td>\n",
       "      <td>0</td>\n",
       "      <td>No</td>\n",
       "      <td>children</td>\n",
       "      <td>Urban</td>\n",
       "      <td>70.37</td>\n",
       "      <td>NaN</td>\n",
       "      <td>Unknown</td>\n",
       "      <td>1</td>\n",
       "    </tr>\n",
       "    <tr>\n",
       "      <th>245</th>\n",
       "      <td>49669</td>\n",
       "      <td>Female</td>\n",
       "      <td>14.00</td>\n",
       "      <td>0</td>\n",
       "      <td>0</td>\n",
       "      <td>No</td>\n",
       "      <td>children</td>\n",
       "      <td>Rural</td>\n",
       "      <td>57.93</td>\n",
       "      <td>30.9</td>\n",
       "      <td>Unknown</td>\n",
       "      <td>1</td>\n",
       "    </tr>\n",
       "    <tr>\n",
       "      <th>249</th>\n",
       "      <td>30669</td>\n",
       "      <td>Male</td>\n",
       "      <td>3.00</td>\n",
       "      <td>0</td>\n",
       "      <td>0</td>\n",
       "      <td>No</td>\n",
       "      <td>children</td>\n",
       "      <td>Rural</td>\n",
       "      <td>95.12</td>\n",
       "      <td>18.0</td>\n",
       "      <td>Unknown</td>\n",
       "      <td>0</td>\n",
       "    </tr>\n",
       "    <tr>\n",
       "      <th>251</th>\n",
       "      <td>16523</td>\n",
       "      <td>Female</td>\n",
       "      <td>8.00</td>\n",
       "      <td>0</td>\n",
       "      <td>0</td>\n",
       "      <td>No</td>\n",
       "      <td>Private</td>\n",
       "      <td>Urban</td>\n",
       "      <td>110.89</td>\n",
       "      <td>17.6</td>\n",
       "      <td>Unknown</td>\n",
       "      <td>0</td>\n",
       "    </tr>\n",
       "    <tr>\n",
       "      <th>253</th>\n",
       "      <td>46136</td>\n",
       "      <td>Male</td>\n",
       "      <td>14.00</td>\n",
       "      <td>0</td>\n",
       "      <td>0</td>\n",
       "      <td>No</td>\n",
       "      <td>Never_worked</td>\n",
       "      <td>Rural</td>\n",
       "      <td>161.28</td>\n",
       "      <td>19.1</td>\n",
       "      <td>Unknown</td>\n",
       "      <td>0</td>\n",
       "    </tr>\n",
       "  </tbody>\n",
       "</table>\n",
       "</div>"
      ],
      "text/plain": [
       "        id  gender    age  hypertension  heart_disease ever_married  \\\n",
       "162  69768  Female   1.32             0              0           No   \n",
       "245  49669  Female  14.00             0              0           No   \n",
       "249  30669    Male   3.00             0              0           No   \n",
       "251  16523  Female   8.00             0              0           No   \n",
       "253  46136    Male  14.00             0              0           No   \n",
       "\n",
       "        work_type Residence_type  avg_glucose_level   bmi smoking_status  \\\n",
       "162      children          Urban              70.37   NaN        Unknown   \n",
       "245      children          Rural              57.93  30.9        Unknown   \n",
       "249      children          Rural              95.12  18.0        Unknown   \n",
       "251       Private          Urban             110.89  17.6        Unknown   \n",
       "253  Never_worked          Rural             161.28  19.1        Unknown   \n",
       "\n",
       "     stroke  \n",
       "162       1  \n",
       "245       1  \n",
       "249       0  \n",
       "251       0  \n",
       "253       0  "
      ]
     },
     "execution_count": 56,
     "metadata": {},
     "output_type": "execute_result"
    }
   ],
   "source": [
    "df[df.age<15].head(5)"
   ]
  },
  {
   "cell_type": "markdown",
   "id": "3d4b5f04",
   "metadata": {},
   "source": [
    "Change smoking_status for individuals under 15 from \"Unknown\" to \"never smoked\""
   ]
  },
  {
   "cell_type": "code",
   "execution_count": 12,
   "id": "e9f18a72",
   "metadata": {},
   "outputs": [],
   "source": [
    "def smokeAdjuster(age, smoke):\n",
    "    if (age<15):\n",
    "        if (smoke==\"Unknown\"):\n",
    "            return \"never smoked\"\n",
    "        else: \n",
    "            return smoke\n",
    "    else:\n",
    "        return smoke"
   ]
  },
  {
   "cell_type": "code",
   "execution_count": 13,
   "id": "66f9e523",
   "metadata": {},
   "outputs": [],
   "source": [
    "df['smoking_status'] = df.apply(lambda row: smokeAdjuster(row['age'],row['smoking_status']), axis=1)"
   ]
  },
  {
   "cell_type": "markdown",
   "id": "f90f4b2c-22e5-4a57-bd6d-bdd2e1542583",
   "metadata": {},
   "source": [
    "Let's make sure that it works, and that only \"Unknown\"s under the age of 15 have been changed"
   ]
  },
  {
   "cell_type": "code",
   "execution_count": 14,
   "id": "b7e2c2cc",
   "metadata": {},
   "outputs": [
    {
     "data": {
      "text/plain": [
       "never smoked       679\n",
       "formerly smoked     17\n",
       "smokes               3\n",
       "Name: smoking_status, dtype: int64"
      ]
     },
     "execution_count": 14,
     "metadata": {},
     "output_type": "execute_result"
    }
   ],
   "source": [
    "df[df.age<15].smoking_status.value_counts()"
   ]
  },
  {
   "cell_type": "code",
   "execution_count": 15,
   "id": "f326aebc",
   "metadata": {},
   "outputs": [
    {
     "data": {
      "text/plain": [
       "never smoked       1805\n",
       "Unknown             909\n",
       "formerly smoked     865\n",
       "smokes              786\n",
       "Name: smoking_status, dtype: int64"
      ]
     },
     "execution_count": 15,
     "metadata": {},
     "output_type": "execute_result"
    }
   ],
   "source": [
    "df[df.age>15].smoking_status.value_counts()"
   ]
  },
  {
   "cell_type": "markdown",
   "id": "045f4281",
   "metadata": {},
   "source": [
    "### Pipelines\n",
    "\n",
    "The remaining manipulations will be implemented via Pipelines/Column Transformers "
   ]
  },
  {
   "cell_type": "code",
   "execution_count": 16,
   "id": "24a682d2",
   "metadata": {},
   "outputs": [],
   "source": [
    "from sklearn.model_selection import train_test_split\n",
    "from sklearn.pipeline import Pipeline\n",
    "from sklearn.compose import ColumnTransformer\n",
    "from sklearn.preprocessing import StandardScaler, OneHotEncoder\n",
    "from sklearn.impute import SimpleImputer"
   ]
  },
  {
   "cell_type": "code",
   "execution_count": 17,
   "id": "6dd4df13",
   "metadata": {},
   "outputs": [],
   "source": [
    "X = df.drop(['id','stroke'], axis=1)\n",
    "y = df['stroke']"
   ]
  },
  {
   "cell_type": "code",
   "execution_count": 18,
   "id": "5888dc9b",
   "metadata": {},
   "outputs": [],
   "source": [
    "X_train, X_test, y_train, y_test = train_test_split(X, y, test_size=0.33, random_state=42)"
   ]
  },
  {
   "cell_type": "code",
   "execution_count": 19,
   "id": "5da33e38-746b-407a-bfae-dfc4e1f0860f",
   "metadata": {},
   "outputs": [
    {
     "name": "stdout",
     "output_type": "stream",
     "text": [
      "Shape of X_train: (3423, 10)\n",
      "\n",
      "Shape of X_test: (1686, 10)\n",
      "\n"
     ]
    }
   ],
   "source": [
    "print('Shape of X_train: {}\\n'.format(X_train.shape))\n",
    "print('Shape of X_test: {}\\n'.format(X_test.shape))"
   ]
  },
  {
   "cell_type": "code",
   "execution_count": 20,
   "id": "fc9f76e1",
   "metadata": {},
   "outputs": [
    {
     "data": {
      "text/html": [
       "<div>\n",
       "<style scoped>\n",
       "    .dataframe tbody tr th:only-of-type {\n",
       "        vertical-align: middle;\n",
       "    }\n",
       "\n",
       "    .dataframe tbody tr th {\n",
       "        vertical-align: top;\n",
       "    }\n",
       "\n",
       "    .dataframe thead th {\n",
       "        text-align: right;\n",
       "    }\n",
       "</style>\n",
       "<table border=\"1\" class=\"dataframe\">\n",
       "  <thead>\n",
       "    <tr style=\"text-align: right;\">\n",
       "      <th></th>\n",
       "      <th>gender</th>\n",
       "      <th>age</th>\n",
       "      <th>hypertension</th>\n",
       "      <th>heart_disease</th>\n",
       "      <th>ever_married</th>\n",
       "      <th>work_type</th>\n",
       "      <th>Residence_type</th>\n",
       "      <th>avg_glucose_level</th>\n",
       "      <th>bmi</th>\n",
       "      <th>smoking_status</th>\n",
       "    </tr>\n",
       "  </thead>\n",
       "  <tbody>\n",
       "    <tr>\n",
       "      <th>4540</th>\n",
       "      <td>Male</td>\n",
       "      <td>4.0</td>\n",
       "      <td>0</td>\n",
       "      <td>0</td>\n",
       "      <td>No</td>\n",
       "      <td>children</td>\n",
       "      <td>Urban</td>\n",
       "      <td>87.00</td>\n",
       "      <td>19.0</td>\n",
       "      <td>never smoked</td>\n",
       "    </tr>\n",
       "    <tr>\n",
       "      <th>3379</th>\n",
       "      <td>Female</td>\n",
       "      <td>41.0</td>\n",
       "      <td>0</td>\n",
       "      <td>0</td>\n",
       "      <td>Yes</td>\n",
       "      <td>Private</td>\n",
       "      <td>Urban</td>\n",
       "      <td>74.85</td>\n",
       "      <td>24.8</td>\n",
       "      <td>formerly smoked</td>\n",
       "    </tr>\n",
       "    <tr>\n",
       "      <th>479</th>\n",
       "      <td>Male</td>\n",
       "      <td>54.0</td>\n",
       "      <td>1</td>\n",
       "      <td>0</td>\n",
       "      <td>Yes</td>\n",
       "      <td>Private</td>\n",
       "      <td>Rural</td>\n",
       "      <td>198.69</td>\n",
       "      <td>NaN</td>\n",
       "      <td>smokes</td>\n",
       "    </tr>\n",
       "    <tr>\n",
       "      <th>3683</th>\n",
       "      <td>Male</td>\n",
       "      <td>80.0</td>\n",
       "      <td>0</td>\n",
       "      <td>1</td>\n",
       "      <td>Yes</td>\n",
       "      <td>Self-employed</td>\n",
       "      <td>Rural</td>\n",
       "      <td>95.49</td>\n",
       "      <td>31.6</td>\n",
       "      <td>Unknown</td>\n",
       "    </tr>\n",
       "    <tr>\n",
       "      <th>2997</th>\n",
       "      <td>Male</td>\n",
       "      <td>71.0</td>\n",
       "      <td>0</td>\n",
       "      <td>1</td>\n",
       "      <td>Yes</td>\n",
       "      <td>Private</td>\n",
       "      <td>Urban</td>\n",
       "      <td>204.98</td>\n",
       "      <td>NaN</td>\n",
       "      <td>formerly smoked</td>\n",
       "    </tr>\n",
       "  </tbody>\n",
       "</table>\n",
       "</div>"
      ],
      "text/plain": [
       "      gender   age  hypertension  heart_disease ever_married      work_type  \\\n",
       "4540    Male   4.0             0              0           No       children   \n",
       "3379  Female  41.0             0              0          Yes        Private   \n",
       "479     Male  54.0             1              0          Yes        Private   \n",
       "3683    Male  80.0             0              1          Yes  Self-employed   \n",
       "2997    Male  71.0             0              1          Yes        Private   \n",
       "\n",
       "     Residence_type  avg_glucose_level   bmi   smoking_status  \n",
       "4540          Urban              87.00  19.0     never smoked  \n",
       "3379          Urban              74.85  24.8  formerly smoked  \n",
       "479           Rural             198.69   NaN           smokes  \n",
       "3683          Rural              95.49  31.6          Unknown  \n",
       "2997          Urban             204.98   NaN  formerly smoked  "
      ]
     },
     "execution_count": 20,
     "metadata": {},
     "output_type": "execute_result"
    }
   ],
   "source": [
    "X_train.head()"
   ]
  },
  {
   "cell_type": "code",
   "execution_count": 21,
   "id": "43981eea",
   "metadata": {},
   "outputs": [],
   "source": [
    "num_scaling_feats = ['age', 'avg_glucose_level','bmi']\n",
    "num_dummy = ['hypertension', 'heart_disease']\n",
    "cat_feats = ['gender', 'ever_married', 'work_type', 'Residence_type', 'smoking_status']\n"
   ]
  },
  {
   "cell_type": "code",
   "execution_count": 22,
   "id": "45553ac6",
   "metadata": {},
   "outputs": [],
   "source": [
    "num_pipe = Pipeline([\n",
    "   ('imputer', SimpleImputer(strategy='median')),\n",
    "   ('scaler', StandardScaler()),\n",
    "])"
   ]
  },
  {
   "cell_type": "code",
   "execution_count": 23,
   "id": "c8d336ff",
   "metadata": {},
   "outputs": [],
   "source": [
    "cat_pipe = Pipeline([\n",
    "    ('encoder', OneHotEncoder(handle_unknown='ignore', sparse=False))\n",
    "])"
   ]
  },
  {
   "cell_type": "code",
   "execution_count": 24,
   "id": "0fadc080",
   "metadata": {},
   "outputs": [],
   "source": [
    "preprocessor = ColumnTransformer(\n",
    "    [('numerical', num_pipe, num_scaling_feats),\n",
    "     ('categorical', cat_pipe, cat_feats)],\n",
    "     remainder='passthrough')"
   ]
  },
  {
   "cell_type": "code",
   "execution_count": 25,
   "id": "1e63fcf2",
   "metadata": {},
   "outputs": [],
   "source": [
    "X_train_cleaned = preprocessor.fit_transform(X_train)"
   ]
  },
  {
   "cell_type": "code",
   "execution_count": 71,
   "id": "ebbf91a5",
   "metadata": {},
   "outputs": [],
   "source": [
    "# Gets the newly generated column names (from OneHotEncoding) ---\n",
    "encoded_columns = preprocessor.named_transformers_['categorical']['encoder'].get_feature_names_out(cat_feats)\n",
    "\n",
    "columns = num_scaling_feats + encoded_columns.tolist() + num_dummy"
   ]
  },
  {
   "cell_type": "code",
   "execution_count": 72,
   "id": "f995a4a0",
   "metadata": {},
   "outputs": [
    {
     "data": {
      "text/html": [
       "<div>\n",
       "<style scoped>\n",
       "    .dataframe tbody tr th:only-of-type {\n",
       "        vertical-align: middle;\n",
       "    }\n",
       "\n",
       "    .dataframe tbody tr th {\n",
       "        vertical-align: top;\n",
       "    }\n",
       "\n",
       "    .dataframe thead th {\n",
       "        text-align: right;\n",
       "    }\n",
       "</style>\n",
       "<table border=\"1\" class=\"dataframe\">\n",
       "  <thead>\n",
       "    <tr style=\"text-align: right;\">\n",
       "      <th></th>\n",
       "      <th>gender</th>\n",
       "      <th>age</th>\n",
       "      <th>hypertension</th>\n",
       "      <th>heart_disease</th>\n",
       "      <th>ever_married</th>\n",
       "      <th>work_type</th>\n",
       "      <th>Residence_type</th>\n",
       "      <th>avg_glucose_level</th>\n",
       "      <th>bmi</th>\n",
       "      <th>smoking_status</th>\n",
       "    </tr>\n",
       "  </thead>\n",
       "  <tbody>\n",
       "    <tr>\n",
       "      <th>4540</th>\n",
       "      <td>Male</td>\n",
       "      <td>4.00</td>\n",
       "      <td>0</td>\n",
       "      <td>0</td>\n",
       "      <td>No</td>\n",
       "      <td>children</td>\n",
       "      <td>Urban</td>\n",
       "      <td>87.00</td>\n",
       "      <td>19.0</td>\n",
       "      <td>never smoked</td>\n",
       "    </tr>\n",
       "    <tr>\n",
       "      <th>3379</th>\n",
       "      <td>Female</td>\n",
       "      <td>41.00</td>\n",
       "      <td>0</td>\n",
       "      <td>0</td>\n",
       "      <td>Yes</td>\n",
       "      <td>Private</td>\n",
       "      <td>Urban</td>\n",
       "      <td>74.85</td>\n",
       "      <td>24.8</td>\n",
       "      <td>formerly smoked</td>\n",
       "    </tr>\n",
       "    <tr>\n",
       "      <th>479</th>\n",
       "      <td>Male</td>\n",
       "      <td>54.00</td>\n",
       "      <td>1</td>\n",
       "      <td>0</td>\n",
       "      <td>Yes</td>\n",
       "      <td>Private</td>\n",
       "      <td>Rural</td>\n",
       "      <td>198.69</td>\n",
       "      <td>NaN</td>\n",
       "      <td>smokes</td>\n",
       "    </tr>\n",
       "    <tr>\n",
       "      <th>3683</th>\n",
       "      <td>Male</td>\n",
       "      <td>80.00</td>\n",
       "      <td>0</td>\n",
       "      <td>1</td>\n",
       "      <td>Yes</td>\n",
       "      <td>Self-employed</td>\n",
       "      <td>Rural</td>\n",
       "      <td>95.49</td>\n",
       "      <td>31.6</td>\n",
       "      <td>Unknown</td>\n",
       "    </tr>\n",
       "    <tr>\n",
       "      <th>2997</th>\n",
       "      <td>Male</td>\n",
       "      <td>71.00</td>\n",
       "      <td>0</td>\n",
       "      <td>1</td>\n",
       "      <td>Yes</td>\n",
       "      <td>Private</td>\n",
       "      <td>Urban</td>\n",
       "      <td>204.98</td>\n",
       "      <td>NaN</td>\n",
       "      <td>formerly smoked</td>\n",
       "    </tr>\n",
       "    <tr>\n",
       "      <th>...</th>\n",
       "      <td>...</td>\n",
       "      <td>...</td>\n",
       "      <td>...</td>\n",
       "      <td>...</td>\n",
       "      <td>...</td>\n",
       "      <td>...</td>\n",
       "      <td>...</td>\n",
       "      <td>...</td>\n",
       "      <td>...</td>\n",
       "      <td>...</td>\n",
       "    </tr>\n",
       "    <tr>\n",
       "      <th>4427</th>\n",
       "      <td>Female</td>\n",
       "      <td>61.00</td>\n",
       "      <td>0</td>\n",
       "      <td>0</td>\n",
       "      <td>Yes</td>\n",
       "      <td>Private</td>\n",
       "      <td>Rural</td>\n",
       "      <td>144.14</td>\n",
       "      <td>29.8</td>\n",
       "      <td>never smoked</td>\n",
       "    </tr>\n",
       "    <tr>\n",
       "      <th>466</th>\n",
       "      <td>Female</td>\n",
       "      <td>61.00</td>\n",
       "      <td>1</td>\n",
       "      <td>0</td>\n",
       "      <td>Yes</td>\n",
       "      <td>Private</td>\n",
       "      <td>Rural</td>\n",
       "      <td>170.05</td>\n",
       "      <td>60.2</td>\n",
       "      <td>smokes</td>\n",
       "    </tr>\n",
       "    <tr>\n",
       "      <th>3092</th>\n",
       "      <td>Female</td>\n",
       "      <td>1.16</td>\n",
       "      <td>0</td>\n",
       "      <td>0</td>\n",
       "      <td>No</td>\n",
       "      <td>children</td>\n",
       "      <td>Urban</td>\n",
       "      <td>97.28</td>\n",
       "      <td>17.8</td>\n",
       "      <td>never smoked</td>\n",
       "    </tr>\n",
       "    <tr>\n",
       "      <th>3773</th>\n",
       "      <td>Female</td>\n",
       "      <td>38.00</td>\n",
       "      <td>0</td>\n",
       "      <td>0</td>\n",
       "      <td>Yes</td>\n",
       "      <td>Govt_job</td>\n",
       "      <td>Rural</td>\n",
       "      <td>93.93</td>\n",
       "      <td>21.5</td>\n",
       "      <td>never smoked</td>\n",
       "    </tr>\n",
       "    <tr>\n",
       "      <th>860</th>\n",
       "      <td>Female</td>\n",
       "      <td>46.00</td>\n",
       "      <td>0</td>\n",
       "      <td>0</td>\n",
       "      <td>Yes</td>\n",
       "      <td>Private</td>\n",
       "      <td>Rural</td>\n",
       "      <td>100.15</td>\n",
       "      <td>50.3</td>\n",
       "      <td>smokes</td>\n",
       "    </tr>\n",
       "  </tbody>\n",
       "</table>\n",
       "<p>3423 rows × 10 columns</p>\n",
       "</div>"
      ],
      "text/plain": [
       "      gender    age  hypertension  heart_disease ever_married      work_type  \\\n",
       "4540    Male   4.00             0              0           No       children   \n",
       "3379  Female  41.00             0              0          Yes        Private   \n",
       "479     Male  54.00             1              0          Yes        Private   \n",
       "3683    Male  80.00             0              1          Yes  Self-employed   \n",
       "2997    Male  71.00             0              1          Yes        Private   \n",
       "...      ...    ...           ...            ...          ...            ...   \n",
       "4427  Female  61.00             0              0          Yes        Private   \n",
       "466   Female  61.00             1              0          Yes        Private   \n",
       "3092  Female   1.16             0              0           No       children   \n",
       "3773  Female  38.00             0              0          Yes       Govt_job   \n",
       "860   Female  46.00             0              0          Yes        Private   \n",
       "\n",
       "     Residence_type  avg_glucose_level   bmi   smoking_status  \n",
       "4540          Urban              87.00  19.0     never smoked  \n",
       "3379          Urban              74.85  24.8  formerly smoked  \n",
       "479           Rural             198.69   NaN           smokes  \n",
       "3683          Rural              95.49  31.6          Unknown  \n",
       "2997          Urban             204.98   NaN  formerly smoked  \n",
       "...             ...                ...   ...              ...  \n",
       "4427          Rural             144.14  29.8     never smoked  \n",
       "466           Rural             170.05  60.2           smokes  \n",
       "3092          Urban              97.28  17.8     never smoked  \n",
       "3773          Rural              93.93  21.5     never smoked  \n",
       "860           Rural             100.15  50.3           smokes  \n",
       "\n",
       "[3423 rows x 10 columns]"
      ]
     },
     "metadata": {},
     "output_type": "display_data"
    },
    {
     "data": {
      "text/html": [
       "<div>\n",
       "<style scoped>\n",
       "    .dataframe tbody tr th:only-of-type {\n",
       "        vertical-align: middle;\n",
       "    }\n",
       "\n",
       "    .dataframe tbody tr th {\n",
       "        vertical-align: top;\n",
       "    }\n",
       "\n",
       "    .dataframe thead th {\n",
       "        text-align: right;\n",
       "    }\n",
       "</style>\n",
       "<table border=\"1\" class=\"dataframe\">\n",
       "  <thead>\n",
       "    <tr style=\"text-align: right;\">\n",
       "      <th></th>\n",
       "      <th>age</th>\n",
       "      <th>avg_glucose_level</th>\n",
       "      <th>bmi</th>\n",
       "      <th>gender_Female</th>\n",
       "      <th>gender_Male</th>\n",
       "      <th>ever_married_No</th>\n",
       "      <th>ever_married_Yes</th>\n",
       "      <th>work_type_Govt_job</th>\n",
       "      <th>work_type_Never_worked</th>\n",
       "      <th>work_type_Private</th>\n",
       "      <th>work_type_Self-employed</th>\n",
       "      <th>work_type_children</th>\n",
       "      <th>Residence_type_Rural</th>\n",
       "      <th>Residence_type_Urban</th>\n",
       "      <th>smoking_status_Unknown</th>\n",
       "      <th>smoking_status_formerly smoked</th>\n",
       "      <th>smoking_status_never smoked</th>\n",
       "      <th>smoking_status_smokes</th>\n",
       "      <th>hypertension</th>\n",
       "      <th>heart_disease</th>\n",
       "    </tr>\n",
       "  </thead>\n",
       "  <tbody>\n",
       "    <tr>\n",
       "      <th>0</th>\n",
       "      <td>-1.722637</td>\n",
       "      <td>-0.413661</td>\n",
       "      <td>-1.278181</td>\n",
       "      <td>0.0</td>\n",
       "      <td>1.0</td>\n",
       "      <td>1.0</td>\n",
       "      <td>0.0</td>\n",
       "      <td>0.0</td>\n",
       "      <td>0.0</td>\n",
       "      <td>0.0</td>\n",
       "      <td>0.0</td>\n",
       "      <td>1.0</td>\n",
       "      <td>0.0</td>\n",
       "      <td>1.0</td>\n",
       "      <td>0.0</td>\n",
       "      <td>0.0</td>\n",
       "      <td>1.0</td>\n",
       "      <td>0.0</td>\n",
       "      <td>0.0</td>\n",
       "      <td>0.0</td>\n",
       "    </tr>\n",
       "    <tr>\n",
       "      <th>1</th>\n",
       "      <td>-0.090148</td>\n",
       "      <td>-0.683916</td>\n",
       "      <td>-0.525777</td>\n",
       "      <td>1.0</td>\n",
       "      <td>0.0</td>\n",
       "      <td>0.0</td>\n",
       "      <td>1.0</td>\n",
       "      <td>0.0</td>\n",
       "      <td>0.0</td>\n",
       "      <td>1.0</td>\n",
       "      <td>0.0</td>\n",
       "      <td>0.0</td>\n",
       "      <td>0.0</td>\n",
       "      <td>1.0</td>\n",
       "      <td>0.0</td>\n",
       "      <td>1.0</td>\n",
       "      <td>0.0</td>\n",
       "      <td>0.0</td>\n",
       "      <td>0.0</td>\n",
       "      <td>0.0</td>\n",
       "    </tr>\n",
       "    <tr>\n",
       "      <th>2</th>\n",
       "      <td>0.483430</td>\n",
       "      <td>2.070685</td>\n",
       "      <td>-0.110658</td>\n",
       "      <td>0.0</td>\n",
       "      <td>1.0</td>\n",
       "      <td>0.0</td>\n",
       "      <td>1.0</td>\n",
       "      <td>0.0</td>\n",
       "      <td>0.0</td>\n",
       "      <td>1.0</td>\n",
       "      <td>0.0</td>\n",
       "      <td>0.0</td>\n",
       "      <td>1.0</td>\n",
       "      <td>0.0</td>\n",
       "      <td>0.0</td>\n",
       "      <td>0.0</td>\n",
       "      <td>0.0</td>\n",
       "      <td>1.0</td>\n",
       "      <td>1.0</td>\n",
       "      <td>0.0</td>\n",
       "    </tr>\n",
       "    <tr>\n",
       "      <th>3</th>\n",
       "      <td>1.630584</td>\n",
       "      <td>-0.224816</td>\n",
       "      <td>0.356351</td>\n",
       "      <td>0.0</td>\n",
       "      <td>1.0</td>\n",
       "      <td>0.0</td>\n",
       "      <td>1.0</td>\n",
       "      <td>0.0</td>\n",
       "      <td>0.0</td>\n",
       "      <td>0.0</td>\n",
       "      <td>1.0</td>\n",
       "      <td>0.0</td>\n",
       "      <td>1.0</td>\n",
       "      <td>0.0</td>\n",
       "      <td>1.0</td>\n",
       "      <td>0.0</td>\n",
       "      <td>0.0</td>\n",
       "      <td>0.0</td>\n",
       "      <td>0.0</td>\n",
       "      <td>1.0</td>\n",
       "    </tr>\n",
       "    <tr>\n",
       "      <th>4</th>\n",
       "      <td>1.233492</td>\n",
       "      <td>2.210595</td>\n",
       "      <td>-0.110658</td>\n",
       "      <td>0.0</td>\n",
       "      <td>1.0</td>\n",
       "      <td>0.0</td>\n",
       "      <td>1.0</td>\n",
       "      <td>0.0</td>\n",
       "      <td>0.0</td>\n",
       "      <td>1.0</td>\n",
       "      <td>0.0</td>\n",
       "      <td>0.0</td>\n",
       "      <td>0.0</td>\n",
       "      <td>1.0</td>\n",
       "      <td>0.0</td>\n",
       "      <td>1.0</td>\n",
       "      <td>0.0</td>\n",
       "      <td>0.0</td>\n",
       "      <td>0.0</td>\n",
       "      <td>1.0</td>\n",
       "    </tr>\n",
       "    <tr>\n",
       "      <th>...</th>\n",
       "      <td>...</td>\n",
       "      <td>...</td>\n",
       "      <td>...</td>\n",
       "      <td>...</td>\n",
       "      <td>...</td>\n",
       "      <td>...</td>\n",
       "      <td>...</td>\n",
       "      <td>...</td>\n",
       "      <td>...</td>\n",
       "      <td>...</td>\n",
       "      <td>...</td>\n",
       "      <td>...</td>\n",
       "      <td>...</td>\n",
       "      <td>...</td>\n",
       "      <td>...</td>\n",
       "      <td>...</td>\n",
       "      <td>...</td>\n",
       "      <td>...</td>\n",
       "      <td>...</td>\n",
       "      <td>...</td>\n",
       "    </tr>\n",
       "    <tr>\n",
       "      <th>3418</th>\n",
       "      <td>0.792279</td>\n",
       "      <td>0.857317</td>\n",
       "      <td>0.122846</td>\n",
       "      <td>1.0</td>\n",
       "      <td>0.0</td>\n",
       "      <td>0.0</td>\n",
       "      <td>1.0</td>\n",
       "      <td>0.0</td>\n",
       "      <td>0.0</td>\n",
       "      <td>1.0</td>\n",
       "      <td>0.0</td>\n",
       "      <td>0.0</td>\n",
       "      <td>1.0</td>\n",
       "      <td>0.0</td>\n",
       "      <td>0.0</td>\n",
       "      <td>0.0</td>\n",
       "      <td>1.0</td>\n",
       "      <td>0.0</td>\n",
       "      <td>0.0</td>\n",
       "      <td>0.0</td>\n",
       "    </tr>\n",
       "    <tr>\n",
       "      <th>3419</th>\n",
       "      <td>0.792279</td>\n",
       "      <td>1.433639</td>\n",
       "      <td>4.066478</td>\n",
       "      <td>1.0</td>\n",
       "      <td>0.0</td>\n",
       "      <td>0.0</td>\n",
       "      <td>1.0</td>\n",
       "      <td>0.0</td>\n",
       "      <td>0.0</td>\n",
       "      <td>1.0</td>\n",
       "      <td>0.0</td>\n",
       "      <td>0.0</td>\n",
       "      <td>1.0</td>\n",
       "      <td>0.0</td>\n",
       "      <td>0.0</td>\n",
       "      <td>0.0</td>\n",
       "      <td>0.0</td>\n",
       "      <td>1.0</td>\n",
       "      <td>1.0</td>\n",
       "      <td>0.0</td>\n",
       "    </tr>\n",
       "    <tr>\n",
       "      <th>3420</th>\n",
       "      <td>-1.847941</td>\n",
       "      <td>-0.185000</td>\n",
       "      <td>-1.433851</td>\n",
       "      <td>1.0</td>\n",
       "      <td>0.0</td>\n",
       "      <td>1.0</td>\n",
       "      <td>0.0</td>\n",
       "      <td>0.0</td>\n",
       "      <td>0.0</td>\n",
       "      <td>0.0</td>\n",
       "      <td>0.0</td>\n",
       "      <td>1.0</td>\n",
       "      <td>0.0</td>\n",
       "      <td>1.0</td>\n",
       "      <td>0.0</td>\n",
       "      <td>0.0</td>\n",
       "      <td>1.0</td>\n",
       "      <td>0.0</td>\n",
       "      <td>0.0</td>\n",
       "      <td>0.0</td>\n",
       "    </tr>\n",
       "    <tr>\n",
       "      <th>3421</th>\n",
       "      <td>-0.222512</td>\n",
       "      <td>-0.259515</td>\n",
       "      <td>-0.953869</td>\n",
       "      <td>1.0</td>\n",
       "      <td>0.0</td>\n",
       "      <td>0.0</td>\n",
       "      <td>1.0</td>\n",
       "      <td>1.0</td>\n",
       "      <td>0.0</td>\n",
       "      <td>0.0</td>\n",
       "      <td>0.0</td>\n",
       "      <td>0.0</td>\n",
       "      <td>1.0</td>\n",
       "      <td>0.0</td>\n",
       "      <td>0.0</td>\n",
       "      <td>0.0</td>\n",
       "      <td>1.0</td>\n",
       "      <td>0.0</td>\n",
       "      <td>0.0</td>\n",
       "      <td>0.0</td>\n",
       "    </tr>\n",
       "    <tr>\n",
       "      <th>3422</th>\n",
       "      <td>0.130459</td>\n",
       "      <td>-0.121162</td>\n",
       "      <td>2.782204</td>\n",
       "      <td>1.0</td>\n",
       "      <td>0.0</td>\n",
       "      <td>0.0</td>\n",
       "      <td>1.0</td>\n",
       "      <td>0.0</td>\n",
       "      <td>0.0</td>\n",
       "      <td>1.0</td>\n",
       "      <td>0.0</td>\n",
       "      <td>0.0</td>\n",
       "      <td>1.0</td>\n",
       "      <td>0.0</td>\n",
       "      <td>0.0</td>\n",
       "      <td>0.0</td>\n",
       "      <td>0.0</td>\n",
       "      <td>1.0</td>\n",
       "      <td>0.0</td>\n",
       "      <td>0.0</td>\n",
       "    </tr>\n",
       "  </tbody>\n",
       "</table>\n",
       "<p>3423 rows × 20 columns</p>\n",
       "</div>"
      ],
      "text/plain": [
       "           age  avg_glucose_level       bmi  gender_Female  gender_Male  \\\n",
       "0    -1.722637          -0.413661 -1.278181            0.0          1.0   \n",
       "1    -0.090148          -0.683916 -0.525777            1.0          0.0   \n",
       "2     0.483430           2.070685 -0.110658            0.0          1.0   \n",
       "3     1.630584          -0.224816  0.356351            0.0          1.0   \n",
       "4     1.233492           2.210595 -0.110658            0.0          1.0   \n",
       "...        ...                ...       ...            ...          ...   \n",
       "3418  0.792279           0.857317  0.122846            1.0          0.0   \n",
       "3419  0.792279           1.433639  4.066478            1.0          0.0   \n",
       "3420 -1.847941          -0.185000 -1.433851            1.0          0.0   \n",
       "3421 -0.222512          -0.259515 -0.953869            1.0          0.0   \n",
       "3422  0.130459          -0.121162  2.782204            1.0          0.0   \n",
       "\n",
       "      ever_married_No  ever_married_Yes  work_type_Govt_job  \\\n",
       "0                 1.0               0.0                 0.0   \n",
       "1                 0.0               1.0                 0.0   \n",
       "2                 0.0               1.0                 0.0   \n",
       "3                 0.0               1.0                 0.0   \n",
       "4                 0.0               1.0                 0.0   \n",
       "...               ...               ...                 ...   \n",
       "3418              0.0               1.0                 0.0   \n",
       "3419              0.0               1.0                 0.0   \n",
       "3420              1.0               0.0                 0.0   \n",
       "3421              0.0               1.0                 1.0   \n",
       "3422              0.0               1.0                 0.0   \n",
       "\n",
       "      work_type_Never_worked  work_type_Private  work_type_Self-employed  \\\n",
       "0                        0.0                0.0                      0.0   \n",
       "1                        0.0                1.0                      0.0   \n",
       "2                        0.0                1.0                      0.0   \n",
       "3                        0.0                0.0                      1.0   \n",
       "4                        0.0                1.0                      0.0   \n",
       "...                      ...                ...                      ...   \n",
       "3418                     0.0                1.0                      0.0   \n",
       "3419                     0.0                1.0                      0.0   \n",
       "3420                     0.0                0.0                      0.0   \n",
       "3421                     0.0                0.0                      0.0   \n",
       "3422                     0.0                1.0                      0.0   \n",
       "\n",
       "      work_type_children  Residence_type_Rural  Residence_type_Urban  \\\n",
       "0                    1.0                   0.0                   1.0   \n",
       "1                    0.0                   0.0                   1.0   \n",
       "2                    0.0                   1.0                   0.0   \n",
       "3                    0.0                   1.0                   0.0   \n",
       "4                    0.0                   0.0                   1.0   \n",
       "...                  ...                   ...                   ...   \n",
       "3418                 0.0                   1.0                   0.0   \n",
       "3419                 0.0                   1.0                   0.0   \n",
       "3420                 1.0                   0.0                   1.0   \n",
       "3421                 0.0                   1.0                   0.0   \n",
       "3422                 0.0                   1.0                   0.0   \n",
       "\n",
       "      smoking_status_Unknown  smoking_status_formerly smoked  \\\n",
       "0                        0.0                             0.0   \n",
       "1                        0.0                             1.0   \n",
       "2                        0.0                             0.0   \n",
       "3                        1.0                             0.0   \n",
       "4                        0.0                             1.0   \n",
       "...                      ...                             ...   \n",
       "3418                     0.0                             0.0   \n",
       "3419                     0.0                             0.0   \n",
       "3420                     0.0                             0.0   \n",
       "3421                     0.0                             0.0   \n",
       "3422                     0.0                             0.0   \n",
       "\n",
       "      smoking_status_never smoked  smoking_status_smokes  hypertension  \\\n",
       "0                             1.0                    0.0           0.0   \n",
       "1                             0.0                    0.0           0.0   \n",
       "2                             0.0                    1.0           1.0   \n",
       "3                             0.0                    0.0           0.0   \n",
       "4                             0.0                    0.0           0.0   \n",
       "...                           ...                    ...           ...   \n",
       "3418                          1.0                    0.0           0.0   \n",
       "3419                          0.0                    1.0           1.0   \n",
       "3420                          1.0                    0.0           0.0   \n",
       "3421                          1.0                    0.0           0.0   \n",
       "3422                          0.0                    1.0           0.0   \n",
       "\n",
       "      heart_disease  \n",
       "0               0.0  \n",
       "1               0.0  \n",
       "2               0.0  \n",
       "3               1.0  \n",
       "4               1.0  \n",
       "...             ...  \n",
       "3418            0.0  \n",
       "3419            0.0  \n",
       "3420            0.0  \n",
       "3421            0.0  \n",
       "3422            0.0  \n",
       "\n",
       "[3423 rows x 20 columns]"
      ]
     },
     "metadata": {},
     "output_type": "display_data"
    }
   ],
   "source": [
    "display(X_train)\n",
    "display(pd.DataFrame(X_train_cleaned, columns=columns))\n"
   ]
  },
  {
   "cell_type": "markdown",
   "id": "e7b060d8",
   "metadata": {},
   "source": [
    "### Perfect!\n",
    "\n",
    "Cross-referencing the original table shows that everything was transformed correctly. "
   ]
  },
  {
   "cell_type": "markdown",
   "id": "0b1d7f01",
   "metadata": {},
   "source": [
    "# Model Building"
   ]
  },
  {
   "cell_type": "code",
   "execution_count": 32,
   "id": "3b51ba5c",
   "metadata": {},
   "outputs": [],
   "source": [
    "from sklearn.linear_model import LogisticRegression\n",
    "from sklearn.svm import SVC\n",
    "from sklearn.neighbors import KNeighborsClassifier\n",
    "from sklearn.ensemble import RandomForestClassifier\n",
    "from sklearn.experimental import enable_halving_search_cv\n",
    "from sklearn.model_selection import HalvingGridSearchCV\n",
    "from sklearn.model_selection import GridSearchCV\n",
    "from sklearn.metrics import classification_report\n",
    "from sklearn.model_selection import cross_val_score\n",
    "from sklearn.metrics import confusion_matrix\n",
    "from sklearn.metrics import balanced_accuracy_score"
   ]
  },
  {
   "cell_type": "code",
   "execution_count": 33,
   "id": "a8b97c86",
   "metadata": {},
   "outputs": [],
   "source": [
    "model_params = {    \n",
    "     'logistic_regression': {\n",
    "        'model': LogisticRegression(solver='liblinear', multi_class='auto'),\n",
    "        'params': {\n",
    "            'C': [0.001,0.01,0.1,1,5,10,25],\n",
    "            'penalty': ['l1','l2'],\n",
    "        }\n",
    "    },\n",
    "    'svc': {\n",
    "        'model': SVC(),\n",
    "        'params': {\n",
    "            'gamma': ['scale','auto'],\n",
    "            'C': [1,10,100, 1000],\n",
    "            'kernel': ['linear', 'poly', 'rbf', 'sigmoid']\n",
    "        }\n",
    "    },\n",
    "    'random_forest': {\n",
    "        'model': RandomForestClassifier(),\n",
    "        'params': {\n",
    "            'n_estimators':[1,10,50, 200, 400, 600, 1000],\n",
    "            'max_depth': [10, 20, 30, 40, 50, 60, 70, 80],\n",
    "        }\n",
    "    },\n",
    "    'knn': {\n",
    "        'model': KNeighborsClassifier(),\n",
    "        'params':{\n",
    "            'n_neighbors': [5,15,25,35,45],\n",
    "            'weights': ['uniform', 'distance'],\n",
    "            'metric': ['euclidean', 'manhattan'], \n",
    "        }\n",
    "    }  \n",
    "}"
   ]
  },
  {
   "cell_type": "code",
   "execution_count": 34,
   "id": "404eaf12",
   "metadata": {},
   "outputs": [
    {
     "name": "stdout",
     "output_type": "stream",
     "text": [
      "Fitting 3 folds for each of 14 candidates, totalling 42 fits\n",
      "Fitting 3 folds for each of 32 candidates, totalling 96 fits\n",
      "Fitting 3 folds for each of 56 candidates, totalling 168 fits\n",
      "Fitting 3 folds for each of 20 candidates, totalling 60 fits\n"
     ]
    }
   ],
   "source": [
    "scores = []\n",
    "\n",
    "for model_name, mp in model_params.items():\n",
    "    clf = GridSearchCV(mp['model'], mp['params'], cv=3, verbose=1, scoring='recall')\n",
    "    clf.fit(X_train_cleaned,y_train)\n",
    "    scores.append({\n",
    "        'model': model_name,\n",
    "        'best_score': clf.best_score_,\n",
    "        'best_params': clf.best_params_\n",
    "    })    "
   ]
  },
  {
   "cell_type": "code",
   "execution_count": 45,
   "id": "5cf430f4",
   "metadata": {},
   "outputs": [],
   "source": [
    "df_results = pd.DataFrame(scores,columns=['model', 'best_score', 'best_params'])"
   ]
  },
  {
   "cell_type": "code",
   "execution_count": 46,
   "id": "9d2743d1-0736-4cba-94df-fd2cfbc1319d",
   "metadata": {},
   "outputs": [
    {
     "data": {
      "text/html": [
       "<div>\n",
       "<style scoped>\n",
       "    .dataframe tbody tr th:only-of-type {\n",
       "        vertical-align: middle;\n",
       "    }\n",
       "\n",
       "    .dataframe tbody tr th {\n",
       "        vertical-align: top;\n",
       "    }\n",
       "\n",
       "    .dataframe thead th {\n",
       "        text-align: right;\n",
       "    }\n",
       "</style>\n",
       "<table border=\"1\" class=\"dataframe\">\n",
       "  <thead>\n",
       "    <tr style=\"text-align: right;\">\n",
       "      <th></th>\n",
       "      <th>model</th>\n",
       "      <th>best_score</th>\n",
       "      <th>best_params</th>\n",
       "    </tr>\n",
       "  </thead>\n",
       "  <tbody>\n",
       "    <tr>\n",
       "      <th>0</th>\n",
       "      <td>logistic_regression</td>\n",
       "      <td>0.000000</td>\n",
       "      <td>{'C': 0.001, 'penalty': 'l1'}</td>\n",
       "    </tr>\n",
       "    <tr>\n",
       "      <th>1</th>\n",
       "      <td>svc</td>\n",
       "      <td>0.111111</td>\n",
       "      <td>{'C': 100, 'gamma': 'auto', 'kernel': 'sigmoid'}</td>\n",
       "    </tr>\n",
       "    <tr>\n",
       "      <th>2</th>\n",
       "      <td>random_forest</td>\n",
       "      <td>0.150327</td>\n",
       "      <td>{'max_depth': 80, 'n_estimators': 1}</td>\n",
       "    </tr>\n",
       "    <tr>\n",
       "      <th>3</th>\n",
       "      <td>knn</td>\n",
       "      <td>0.019608</td>\n",
       "      <td>{'metric': 'manhattan', 'n_neighbors': 5, 'weights': 'distance'}</td>\n",
       "    </tr>\n",
       "  </tbody>\n",
       "</table>\n",
       "</div>"
      ],
      "text/plain": [
       "                 model  best_score  \\\n",
       "0  logistic_regression    0.000000   \n",
       "1                  svc    0.111111   \n",
       "2        random_forest    0.150327   \n",
       "3                  knn    0.019608   \n",
       "\n",
       "                                                        best_params  \n",
       "0                                     {'C': 0.001, 'penalty': 'l1'}  \n",
       "1                  {'C': 100, 'gamma': 'auto', 'kernel': 'sigmoid'}  \n",
       "2                              {'max_depth': 80, 'n_estimators': 1}  \n",
       "3  {'metric': 'manhattan', 'n_neighbors': 5, 'weights': 'distance'}  "
      ]
     },
     "execution_count": 46,
     "metadata": {},
     "output_type": "execute_result"
    }
   ],
   "source": [
    "pd.options.display.max_colwidth = 100\n",
    "df_results"
   ]
  },
  {
   "cell_type": "markdown",
   "id": "a6c6c917",
   "metadata": {},
   "source": [
    "### Let's do some further testing with the 'best' models!"
   ]
  },
  {
   "cell_type": "code",
   "execution_count": 37,
   "id": "db65bc53",
   "metadata": {},
   "outputs": [],
   "source": [
    "X_test_cleaned = preprocessor.transform(X_test)"
   ]
  },
  {
   "cell_type": "markdown",
   "id": "606d6a8d-f49e-44c2-b7b4-be031f616b17",
   "metadata": {},
   "source": [
    "### Logistic Regression"
   ]
  },
  {
   "cell_type": "code",
   "execution_count": 40,
   "id": "0243c533-097e-4eb8-81d4-807a5a823a79",
   "metadata": {},
   "outputs": [],
   "source": [
    "best_logit = LogisticRegression(C=0.001, solver='liblinear', multi_class='auto', penalty='l1')"
   ]
  },
  {
   "cell_type": "code",
   "execution_count": 41,
   "id": "f4e51ae6-35f3-4231-a162-1cc8da9b80b7",
   "metadata": {},
   "outputs": [
    {
     "data": {
      "text/plain": [
       "LogisticRegression(C=0.001, penalty='l1', solver='liblinear')"
      ]
     },
     "execution_count": 41,
     "metadata": {},
     "output_type": "execute_result"
    }
   ],
   "source": [
    "best_logit.fit(X_train_cleaned,y_train)"
   ]
  },
  {
   "cell_type": "code",
   "execution_count": 42,
   "id": "e6d98f06-33aa-4e7a-bce2-df1e1173a124",
   "metadata": {},
   "outputs": [
    {
     "data": {
      "text/plain": [
       "array([[1590,    0],\n",
       "       [  96,    0]])"
      ]
     },
     "execution_count": 42,
     "metadata": {},
     "output_type": "execute_result"
    }
   ],
   "source": [
    "confusion_matrix(y_test,best_logit.predict(X_test_cleaned))"
   ]
  },
  {
   "cell_type": "code",
   "execution_count": 51,
   "id": "0a5872e0-f55c-471b-bbd7-71e4b560f930",
   "metadata": {},
   "outputs": [
    {
     "name": "stdout",
     "output_type": "stream",
     "text": [
      "              precision    recall  f1-score   support\n",
      "\n",
      "           0       0.94      1.00      0.97      1590\n",
      "           1       0.50      0.01      0.02        96\n",
      "\n",
      "    accuracy                           0.94      1686\n",
      "   macro avg       0.72      0.50      0.50      1686\n",
      "weighted avg       0.92      0.94      0.92      1686\n",
      "\n"
     ]
    }
   ],
   "source": [
    "print(classification_report(y_test,best_logit.predict(X_test_cleaned)))"
   ]
  },
  {
   "cell_type": "markdown",
   "id": "c5d0f28a-78ad-4a75-898d-d73df6db8b61",
   "metadata": {},
   "source": [
    "### Support Vector Classifier"
   ]
  },
  {
   "cell_type": "code",
   "execution_count": 47,
   "id": "2e4979d5",
   "metadata": {},
   "outputs": [],
   "source": [
    "best_svc = SVC(C=100,gamma='auto',kernel='sigmoid')"
   ]
  },
  {
   "cell_type": "code",
   "execution_count": 48,
   "id": "35184afb",
   "metadata": {},
   "outputs": [
    {
     "data": {
      "text/plain": [
       "SVC(C=100, gamma='auto', kernel='sigmoid')"
      ]
     },
     "execution_count": 48,
     "metadata": {},
     "output_type": "execute_result"
    }
   ],
   "source": [
    "best_svc.fit(X_train_cleaned,y_train)"
   ]
  },
  {
   "cell_type": "code",
   "execution_count": 49,
   "id": "dfe3ac7e",
   "metadata": {},
   "outputs": [
    {
     "data": {
      "text/plain": [
       "array([[1522,   68],\n",
       "       [  78,   18]])"
      ]
     },
     "execution_count": 49,
     "metadata": {},
     "output_type": "execute_result"
    }
   ],
   "source": [
    "confusion_matrix(y_test,best_svc.predict(X_test_cleaned))"
   ]
  },
  {
   "cell_type": "markdown",
   "id": "a49061be-ccde-4fbb-8ca5-76257962196b",
   "metadata": {},
   "source": [
    "Explained: \n",
    "True Negative: Correctly predicted that 1522 patients did not have a stroke\n",
    "True Positive: Correctly predicted that 18 patients did have a stroke\n",
    "False Positive: Falsely predicted that 68 pateints had a stroke, when they didn't (Type I Error)\n",
    "\n",
    "False Negative: Falsely predicted that 78 did not have a stroke, when they actually did (Type II Error)\n",
    "\n",
    "We want to minimize Type II Error ("
   ]
  },
  {
   "cell_type": "code",
   "execution_count": 50,
   "id": "94c82e6b",
   "metadata": {},
   "outputs": [
    {
     "name": "stdout",
     "output_type": "stream",
     "text": [
      "              precision    recall  f1-score   support\n",
      "\n",
      "           0       0.95      0.96      0.95      1590\n",
      "           1       0.21      0.19      0.20        96\n",
      "\n",
      "    accuracy                           0.91      1686\n",
      "   macro avg       0.58      0.57      0.58      1686\n",
      "weighted avg       0.91      0.91      0.91      1686\n",
      "\n"
     ]
    }
   ],
   "source": [
    "print(classification_report(y_test,best_svc.predict(X_test_cleaned)))"
   ]
  },
  {
   "cell_type": "markdown",
   "id": "8111b08d-40ea-49c6-8a0d-19fdd8cc3902",
   "metadata": {},
   "source": [
    "### Random Forest Classifier"
   ]
  },
  {
   "cell_type": "code",
   "execution_count": 51,
   "id": "c8d68376",
   "metadata": {},
   "outputs": [],
   "source": [
    "best_forest = RandomForestClassifier(n_estimators=1, max_depth=80)"
   ]
  },
  {
   "cell_type": "code",
   "execution_count": 52,
   "id": "2df05eee",
   "metadata": {},
   "outputs": [
    {
     "data": {
      "text/plain": [
       "RandomForestClassifier(max_depth=80, n_estimators=1)"
      ]
     },
     "execution_count": 52,
     "metadata": {},
     "output_type": "execute_result"
    }
   ],
   "source": [
    "best_forest.fit(X_train_cleaned,y_train)"
   ]
  },
  {
   "cell_type": "code",
   "execution_count": 53,
   "id": "8cd8f71e",
   "metadata": {},
   "outputs": [
    {
     "data": {
      "text/plain": [
       "array([[1523,   67],\n",
       "       [  87,    9]])"
      ]
     },
     "execution_count": 53,
     "metadata": {},
     "output_type": "execute_result"
    }
   ],
   "source": [
    "confusion_matrix(y_test,best_forest.predict(X_test_cleaned))"
   ]
  },
  {
   "cell_type": "code",
   "execution_count": 54,
   "id": "793ff7bf-d45c-43b9-8a63-318e4d1f136b",
   "metadata": {},
   "outputs": [
    {
     "name": "stdout",
     "output_type": "stream",
     "text": [
      "              precision    recall  f1-score   support\n",
      "\n",
      "           0       0.95      0.96      0.95      1590\n",
      "           1       0.12      0.09      0.10        96\n",
      "\n",
      "    accuracy                           0.91      1686\n",
      "   macro avg       0.53      0.53      0.53      1686\n",
      "weighted avg       0.90      0.91      0.90      1686\n",
      "\n"
     ]
    }
   ],
   "source": [
    "print(classification_report(y_test,best_forest.predict(X_test_cleaned)))"
   ]
  },
  {
   "cell_type": "markdown",
   "id": "2d5f0de9-af7e-4dfc-81e6-88410b74628d",
   "metadata": {},
   "source": [
    "### K-Nearest Neighbor Classifier"
   ]
  },
  {
   "cell_type": "code",
   "execution_count": 55,
   "id": "8ce4f98b-30ef-4d43-a962-6b3b19f00be6",
   "metadata": {},
   "outputs": [],
   "source": [
    "best_knn = KNeighborsClassifier(metric='manhattan', n_neighbors=5, weights='distance')"
   ]
  },
  {
   "cell_type": "code",
   "execution_count": 56,
   "id": "45391914-c739-458b-a138-98f20c601e4e",
   "metadata": {},
   "outputs": [
    {
     "data": {
      "text/plain": [
       "KNeighborsClassifier(metric='manhattan', weights='distance')"
      ]
     },
     "execution_count": 56,
     "metadata": {},
     "output_type": "execute_result"
    }
   ],
   "source": [
    "best_knn.fit(X_train_cleaned, y_train)"
   ]
  },
  {
   "cell_type": "code",
   "execution_count": 57,
   "id": "9b3fb1ed-8742-4d08-9e86-23a8d8d5cfe8",
   "metadata": {},
   "outputs": [
    {
     "data": {
      "text/plain": [
       "array([[1579,   11],\n",
       "       [  93,    3]])"
      ]
     },
     "execution_count": 57,
     "metadata": {},
     "output_type": "execute_result"
    }
   ],
   "source": [
    "confusion_matrix(y_test,best_knn.predict(X_test_cleaned))"
   ]
  },
  {
   "cell_type": "code",
   "execution_count": 58,
   "id": "5270da38-9bd2-46a6-81cb-381b68140d86",
   "metadata": {},
   "outputs": [
    {
     "name": "stdout",
     "output_type": "stream",
     "text": [
      "              precision    recall  f1-score   support\n",
      "\n",
      "           0       0.94      0.99      0.97      1590\n",
      "           1       0.21      0.03      0.05        96\n",
      "\n",
      "    accuracy                           0.94      1686\n",
      "   macro avg       0.58      0.51      0.51      1686\n",
      "weighted avg       0.90      0.94      0.92      1686\n",
      "\n"
     ]
    }
   ],
   "source": [
    "print(classification_report(y_test,best_knn.predict(X_test_cleaned)))"
   ]
  },
  {
   "cell_type": "markdown",
   "id": "6a0b9901-7d74-4a3a-8f72-ef2425fcdc8e",
   "metadata": {},
   "source": [
    "### Null Accuracy"
   ]
  },
  {
   "cell_type": "code",
   "execution_count": 30,
   "id": "27f874c1-7535-45d2-a512-99d1167b9ea2",
   "metadata": {},
   "outputs": [
    {
     "data": {
      "text/plain": [
       "0.9430604982206405"
      ]
     },
     "execution_count": 30,
     "metadata": {},
     "output_type": "execute_result"
    }
   ],
   "source": [
    "max(y_test.mean(), 1-y_test.mean())"
   ]
  },
  {
   "cell_type": "markdown",
   "id": "e1fac52f",
   "metadata": {},
   "source": [
    "The Support Vector Classifier had the best performance, with a Recall of 19%. "
   ]
  },
  {
   "cell_type": "code",
   "execution_count": null,
   "id": "13b103ab-9187-4028-8c4e-4d729a661ed9",
   "metadata": {},
   "outputs": [],
   "source": [
    "# To calculate ROC_AUC for a SVC, must include the following param when declaring the SVC: probability=True\n",
    "\n",
    "# from sklearn.metrics import roc_auc_score\n",
    "# roc_auc_score(y_test, best_svc.predict_proba(X_test)[:,1])"
   ]
  },
  {
   "cell_type": "markdown",
   "id": "6b48d60b-ecc0-4af7-b160-d22eefde98f8",
   "metadata": {},
   "source": [
    "## SMOTE Analysis:"
   ]
  },
  {
   "cell_type": "code",
   "execution_count": 63,
   "id": "55fd9bb1",
   "metadata": {},
   "outputs": [],
   "source": [
    "from imblearn.over_sampling import SMOTE"
   ]
  },
  {
   "cell_type": "code",
   "execution_count": 64,
   "id": "d28fb817-a635-4c39-822d-800e6b4c5ab0",
   "metadata": {},
   "outputs": [],
   "source": [
    "sm = SMOTE(random_state=11)"
   ]
  },
  {
   "cell_type": "code",
   "execution_count": 65,
   "id": "e914a779-2e12-430f-b671-0ab48876d077",
   "metadata": {},
   "outputs": [],
   "source": [
    "X_train_SMOTE, y_train_SMOTE = sm.fit_sample(X_train_cleaned, y_train.ravel())"
   ]
  },
  {
   "cell_type": "code",
   "execution_count": 66,
   "id": "f928e352-6c39-4daf-9421-3074fc111f8c",
   "metadata": {},
   "outputs": [
    {
     "name": "stdout",
     "output_type": "stream",
     "text": [
      "Shape of X_train after SMOTE: (6540, 20)\n",
      "\n",
      "Total instances of target = '1' after SMOTE: 3270\n",
      "Total instances of target = '0' after SMOTE: 3270\n"
     ]
    }
   ],
   "source": [
    "print('Shape of X_train after SMOTE: {}\\n'.format(X_train_SMOTE.shape))\n",
    "  \n",
    "print(\"Total instances of target = '1' after SMOTE: {}\".format(sum(y_train_SMOTE == 1)))\n",
    "print(\"Total instances of target = '0' after SMOTE: {}\".format(sum(y_train_SMOTE == 0)))"
   ]
  },
  {
   "cell_type": "code",
   "execution_count": 88,
   "id": "df86b74b-66dc-4a7c-a59a-a3ec3723038c",
   "metadata": {},
   "outputs": [
    {
     "name": "stdout",
     "output_type": "stream",
     "text": [
      "Fitting 5 folds for each of 14 candidates, totalling 70 fits\n",
      "Fitting 5 folds for each of 32 candidates, totalling 160 fits\n",
      "Fitting 5 folds for each of 56 candidates, totalling 280 fits\n",
      "Fitting 5 folds for each of 20 candidates, totalling 100 fits\n"
     ]
    }
   ],
   "source": [
    "scores = []\n",
    "\n",
    "for model_name, mp in model_params.items():\n",
    "    clf = GridSearchCV(mp['model'], mp['params'], cv=5, scoring='recall', verbose=3, n_jobs=-1)\n",
    "    clf.fit(X_train_SMOTE,y_train_SMOTE)\n",
    "    scores.append({\n",
    "        'model': model_name,\n",
    "        'best_score': clf.best_score_,\n",
    "        'best_params': clf.best_params_\n",
    "    })"
   ]
  },
  {
   "cell_type": "code",
   "execution_count": 89,
   "id": "da4b5225-ba39-4408-a52b-99d7608b2ba1",
   "metadata": {},
   "outputs": [
    {
     "data": {
      "text/html": [
       "<div>\n",
       "<style scoped>\n",
       "    .dataframe tbody tr th:only-of-type {\n",
       "        vertical-align: middle;\n",
       "    }\n",
       "\n",
       "    .dataframe tbody tr th {\n",
       "        vertical-align: top;\n",
       "    }\n",
       "\n",
       "    .dataframe thead th {\n",
       "        text-align: right;\n",
       "    }\n",
       "</style>\n",
       "<table border=\"1\" class=\"dataframe\">\n",
       "  <thead>\n",
       "    <tr style=\"text-align: right;\">\n",
       "      <th></th>\n",
       "      <th>model</th>\n",
       "      <th>best_score</th>\n",
       "      <th>best_params</th>\n",
       "    </tr>\n",
       "  </thead>\n",
       "  <tbody>\n",
       "    <tr>\n",
       "      <th>0</th>\n",
       "      <td>logistic_regression</td>\n",
       "      <td>0.971560</td>\n",
       "      <td>{'C': 0.001, 'penalty': 'l1'}</td>\n",
       "    </tr>\n",
       "    <tr>\n",
       "      <th>1</th>\n",
       "      <td>svc</td>\n",
       "      <td>0.985933</td>\n",
       "      <td>{'C': 1000, 'gamma': 'scale', 'kernel': 'rbf'}</td>\n",
       "    </tr>\n",
       "    <tr>\n",
       "      <th>2</th>\n",
       "      <td>random_forest</td>\n",
       "      <td>0.970948</td>\n",
       "      <td>{'max_depth': 20, 'n_estimators': 400}</td>\n",
       "    </tr>\n",
       "    <tr>\n",
       "      <th>3</th>\n",
       "      <td>knn</td>\n",
       "      <td>0.993578</td>\n",
       "      <td>{'metric': 'euclidean', 'n_neighbors': 15, 'weights': 'distance'}</td>\n",
       "    </tr>\n",
       "  </tbody>\n",
       "</table>\n",
       "</div>"
      ],
      "text/plain": [
       "                 model  best_score  \\\n",
       "0  logistic_regression    0.971560   \n",
       "1                  svc    0.985933   \n",
       "2        random_forest    0.970948   \n",
       "3                  knn    0.993578   \n",
       "\n",
       "                                                         best_params  \n",
       "0                                      {'C': 0.001, 'penalty': 'l1'}  \n",
       "1                     {'C': 1000, 'gamma': 'scale', 'kernel': 'rbf'}  \n",
       "2                             {'max_depth': 20, 'n_estimators': 400}  \n",
       "3  {'metric': 'euclidean', 'n_neighbors': 15, 'weights': 'distance'}  "
      ]
     },
     "execution_count": 89,
     "metadata": {},
     "output_type": "execute_result"
    }
   ],
   "source": [
    "df_SMOTE_results = pd.DataFrame(scores,columns=['model', 'best_score', 'best_params'])\n",
    "df_SMOTE_results"
   ]
  },
  {
   "cell_type": "markdown",
   "id": "d870aa14-35ba-4036-90da-1a9f8ada1969",
   "metadata": {},
   "source": [
    "### Logistic Regression (SMOTE)"
   ]
  },
  {
   "cell_type": "code",
   "execution_count": 69,
   "id": "11f6fdb4-d530-4293-a1df-d5ef1d260c1f",
   "metadata": {},
   "outputs": [],
   "source": [
    "SMOTE_BEST_LOGIT = LogisticRegression(C=0.001, penalty='l1', solver='liblinear', multi_class='auto')"
   ]
  },
  {
   "cell_type": "code",
   "execution_count": 70,
   "id": "67458569-3581-4488-9193-40116d4d72ec",
   "metadata": {},
   "outputs": [
    {
     "data": {
      "text/plain": [
       "LogisticRegression(C=0.001, penalty='l1', solver='liblinear')"
      ]
     },
     "execution_count": 70,
     "metadata": {},
     "output_type": "execute_result"
    }
   ],
   "source": [
    "SMOTE_BEST_LOGIT.fit(X_train_SMOTE, y_train_SMOTE)"
   ]
  },
  {
   "cell_type": "code",
   "execution_count": 71,
   "id": "3f738dcc-e3c9-4ae3-b6a2-40b9b136e77c",
   "metadata": {},
   "outputs": [
    {
     "name": "stdout",
     "output_type": "stream",
     "text": [
      "[[790 800]\n",
      " [  4  92]]\n"
     ]
    }
   ],
   "source": [
    "print(confusion_matrix(y_test,SMOTE_BEST_LOGIT.predict(X_test_cleaned)))"
   ]
  },
  {
   "cell_type": "code",
   "execution_count": 72,
   "id": "adcb8e31-b82a-4ece-937f-baf8da03f08f",
   "metadata": {},
   "outputs": [
    {
     "name": "stdout",
     "output_type": "stream",
     "text": [
      "              precision    recall  f1-score   support\n",
      "\n",
      "           0       0.99      0.50      0.66      1590\n",
      "           1       0.10      0.96      0.19        96\n",
      "\n",
      "    accuracy                           0.52      1686\n",
      "   macro avg       0.55      0.73      0.42      1686\n",
      "weighted avg       0.94      0.52      0.64      1686\n",
      "\n"
     ]
    }
   ],
   "source": [
    "print(classification_report(y_test, SMOTE_BEST_LOGIT.predict(X_test_cleaned)))"
   ]
  },
  {
   "cell_type": "code",
   "execution_count": 99,
   "id": "6dc3dfbf-8af5-4cad-a464-6e6501bfedbf",
   "metadata": {},
   "outputs": [],
   "source": [
    "from sklearn.metrics import RocCurveDisplay"
   ]
  },
  {
   "cell_type": "code",
   "execution_count": 98,
   "id": "aef53e65-565a-4f1e-842e-33c6b3ee9300",
   "metadata": {},
   "outputs": [],
   "source": [
    "y_pred = SMOTE_BEST_LOGIT.decision_function(X_test_cleaned)"
   ]
  },
  {
   "cell_type": "code",
   "execution_count": 103,
   "id": "9cf29dae-d8f8-42a8-83ab-a99324ae962d",
   "metadata": {},
   "outputs": [
    {
     "data": {
      "image/png": "[encoded data removed]",
      "text/plain": [
       "<Figure size 432x288 with 1 Axes>"
      ]
     },
     "metadata": {},
     "output_type": "display_data"
    }
   ],
   "source": [
    "RocCurveDisplay.from_predictions(y_test, y_pred)\n",
    "plt.show()"
   ]
  },
  {
   "cell_type": "markdown",
   "id": "6f03520a-a4c6-4e2a-af75-c8e55a4c2a4c",
   "metadata": {},
   "source": [
    "### Support Vector Classifier (SMOTE)"
   ]
  },
  {
   "cell_type": "code",
   "execution_count": 73,
   "id": "b21565b4-fe73-4d24-bbda-1ce31b2bfe3f",
   "metadata": {},
   "outputs": [],
   "source": [
    "SMOTE_BEST_SVC = SVC(C=1000,gamma='scale',kernel='rbf')"
   ]
  },
  {
   "cell_type": "code",
   "execution_count": 74,
   "id": "d4e8901b-d681-4903-ba3b-bda5a8613518",
   "metadata": {},
   "outputs": [
    {
     "data": {
      "text/plain": [
       "SVC(C=1000)"
      ]
     },
     "execution_count": 74,
     "metadata": {},
     "output_type": "execute_result"
    }
   ],
   "source": [
    "SMOTE_BEST_SVC.fit(X_train_SMOTE,y_train_SMOTE)"
   ]
  },
  {
   "cell_type": "code",
   "execution_count": 75,
   "id": "c9d27636-5a81-4f25-b511-a875849ab2fd",
   "metadata": {},
   "outputs": [
    {
     "name": "stdout",
     "output_type": "stream",
     "text": [
      "[[1502   88]\n",
      " [  81   15]]\n"
     ]
    }
   ],
   "source": [
    "print(confusion_matrix(y_test, SMOTE_BEST_SVC.predict(X_test_cleaned)))"
   ]
  },
  {
   "cell_type": "code",
   "execution_count": 78,
   "id": "88f4ce94-e1a0-476b-8c36-23bfe280e089",
   "metadata": {},
   "outputs": [
    {
     "name": "stdout",
     "output_type": "stream",
     "text": [
      "              precision    recall  f1-score   support\n",
      "\n",
      "           0       0.95      0.94      0.95      1590\n",
      "           1       0.15      0.16      0.15        96\n",
      "\n",
      "    accuracy                           0.90      1686\n",
      "   macro avg       0.55      0.55      0.55      1686\n",
      "weighted avg       0.90      0.90      0.90      1686\n",
      "\n"
     ]
    }
   ],
   "source": [
    "print(classification_report(y_test, SMOTE_BEST_SVC.predict(X_test_cleaned)))"
   ]
  },
  {
   "cell_type": "markdown",
   "id": "e103fb1d-ebbe-41c9-b951-75d9f64d5a34",
   "metadata": {},
   "source": [
    "### Random Forest Classifier (SMOTE)"
   ]
  },
  {
   "cell_type": "code",
   "execution_count": 90,
   "id": "0e2d9909-c590-46da-8a82-5d565bb30c8f",
   "metadata": {},
   "outputs": [],
   "source": [
    "SMOTE_BEST_RF = RandomForestClassifier(max_depth=20, n_estimators=400)"
   ]
  },
  {
   "cell_type": "code",
   "execution_count": 91,
   "id": "1c2216e4-26cd-4c37-a459-56db81b8a2e2",
   "metadata": {},
   "outputs": [
    {
     "data": {
      "text/plain": [
       "RandomForestClassifier(max_depth=20, n_estimators=400)"
      ]
     },
     "execution_count": 91,
     "metadata": {},
     "output_type": "execute_result"
    }
   ],
   "source": [
    "SMOTE_BEST_RF.fit(X_train_SMOTE, y_train_SMOTE)"
   ]
  },
  {
   "cell_type": "code",
   "execution_count": 92,
   "id": "a7e25a5e-2ded-4a01-bd5b-012c3afa4532",
   "metadata": {},
   "outputs": [
    {
     "name": "stdout",
     "output_type": "stream",
     "text": [
      "[[1560   30]\n",
      " [  89    7]]\n"
     ]
    }
   ],
   "source": [
    "print(confusion_matrix(y_test,SMOTE_BEST_RF.predict(X_test_cleaned)))"
   ]
  },
  {
   "cell_type": "code",
   "execution_count": 93,
   "id": "e73e6460-bfc3-4927-8093-4c0b548c6d64",
   "metadata": {},
   "outputs": [
    {
     "name": "stdout",
     "output_type": "stream",
     "text": [
      "              precision    recall  f1-score   support\n",
      "\n",
      "           0       0.95      0.98      0.96      1590\n",
      "           1       0.19      0.07      0.11        96\n",
      "\n",
      "    accuracy                           0.93      1686\n",
      "   macro avg       0.57      0.53      0.53      1686\n",
      "weighted avg       0.90      0.93      0.91      1686\n",
      "\n"
     ]
    }
   ],
   "source": [
    "print(classification_report(y_test, SMOTE_BEST_RF.predict(X_test_cleaned)))"
   ]
  },
  {
   "cell_type": "code",
   "execution_count": 94,
   "id": "b1089c4e-e8af-4421-b7f4-e44c7e088817",
   "metadata": {},
   "outputs": [
    {
     "name": "stdout",
     "output_type": "stream",
     "text": [
      "[[3267    3]\n",
      " [   0  153]]\n"
     ]
    }
   ],
   "source": [
    "print(confusion_matrix(y_train,SMOTE_BEST_RF.predict(X_train_cleaned)))"
   ]
  },
  {
   "cell_type": "markdown",
   "id": "53eb84bc-93ad-490b-9ccf-37eba692ac3a",
   "metadata": {},
   "source": [
    "### K-Nearest Neighbor Classifier (SMOTE)"
   ]
  },
  {
   "cell_type": "code",
   "execution_count": 84,
   "id": "1e40fdb6-c3aa-4627-9d01-6435fd3302b0",
   "metadata": {},
   "outputs": [],
   "source": [
    "SMOTE_BEST_KNN = KNeighborsClassifier(metric='euclidean', n_neighbors=15, weights='distance')"
   ]
  },
  {
   "cell_type": "code",
   "execution_count": 85,
   "id": "d4ee624e-a026-49c6-95e5-29572a857a9c",
   "metadata": {},
   "outputs": [
    {
     "data": {
      "text/plain": [
       "KNeighborsClassifier(metric='euclidean', n_neighbors=15, weights='distance')"
      ]
     },
     "execution_count": 85,
     "metadata": {},
     "output_type": "execute_result"
    }
   ],
   "source": [
    "SMOTE_BEST_KNN.fit(X_train_SMOTE, y_train_SMOTE)"
   ]
  },
  {
   "cell_type": "code",
   "execution_count": 86,
   "id": "7e5f8a0e-62f0-4303-a48f-f0844260ed3d",
   "metadata": {},
   "outputs": [
    {
     "name": "stdout",
     "output_type": "stream",
     "text": [
      "[[1259  331]\n",
      " [  48   48]]\n"
     ]
    }
   ],
   "source": [
    "print(confusion_matrix(y_test, SMOTE_BEST_KNN.predict(X_test_cleaned)))"
   ]
  },
  {
   "cell_type": "code",
   "execution_count": 87,
   "id": "87ea9db1-5c71-4a9d-9e8e-e13ba143470e",
   "metadata": {},
   "outputs": [
    {
     "name": "stdout",
     "output_type": "stream",
     "text": [
      "              precision    recall  f1-score   support\n",
      "\n",
      "           0       0.96      0.79      0.87      1590\n",
      "           1       0.13      0.50      0.20        96\n",
      "\n",
      "    accuracy                           0.78      1686\n",
      "   macro avg       0.54      0.65      0.54      1686\n",
      "weighted avg       0.92      0.78      0.83      1686\n",
      "\n"
     ]
    }
   ],
   "source": [
    "print(classification_report(y_test, SMOTE_BEST_KNN.predict(X_test_cleaned)))"
   ]
  },
  {
   "cell_type": "markdown",
   "id": "47b24ba4-bdc7-4061-b56e-51371bee3202",
   "metadata": {},
   "source": [
    "## Conclusion\n",
    "\n",
    "A combination of SMOTE and Logistic Regression yielded the best outcome. While said model makes a lot of Type I Errors (more than half of the test set was classified as target=1), it has the highest Recall at 96%. \n",
    "\n",
    "For this data, maximizing Recall is the most important thing--it's better to wrongly predict that someone had a stroke than to wrongly predict that someone didn't. \n",
    "\n",
    "Future tests should focus on advancing the Logistic Regression model seen in this notebook. Ideally, Recall will remain about the same and the False Positive Rate will decrease."
   ]
  }
 ],
 "metadata": {
  "kernelspec": {
   "display_name": "Python 3 (ipykernel)",
   "language": "python",
   "name": "python3"
  },
  "language_info": {
   "codemirror_mode": {
    "name": "ipython",
    "version": 3
   },
   "file_extension": ".py",
   "mimetype": "text/x-python",
   "name": "python",
   "nbconvert_exporter": "python",
   "pygments_lexer": "ipython3",
   "version": "3.8.12"
  }
 },
 "nbformat": 4,
 "nbformat_minor": 5
}
